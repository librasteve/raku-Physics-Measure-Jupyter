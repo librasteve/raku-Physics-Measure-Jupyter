{
 "cells": [
  {
   "cell_type": "code",
   "execution_count": 2,
   "id": "d6b35b6d-a461-4ad2-b563-cd9758bcc0f2",
   "metadata": {},
   "outputs": [],
   "source": [
    "use Physics::Unit;\n",
    "use Physics::Measure :ALL;"
   ]
  },
  {
   "cell_type": "code",
   "execution_count": 3,
   "id": "5caee839-1612-403d-b32a-83cfe8822230",
   "metadata": {},
   "outputs": [
    {
     "name": "stdout",
     "output_type": "stream",
     "text": [
      "The Zheng Zhi bulk carrier vessel transported 63907metric-ton of Drax’s sustainable biomass from the \n",
      "US port of Baton Rouge in Louisiana.\n"
     ]
    }
   ],
   "source": [
    "my $zz-load = ♎️'63907 tonnes';\n",
    "\n",
    "say \"The Zheng Zhi bulk carrier vessel transported $zz-load of Drax’s sustainable biomass from the \n",
    "US port of Baton Rouge in Louisiana.\""
   ]
  },
  {
   "cell_type": "code",
   "execution_count": 4,
   "id": "810f8351-6256-447b-b441-4a2bf56cf13b",
   "metadata": {},
   "outputs": [
    {
     "name": "stdout",
     "output_type": "stream",
     "text": [
      "The Zheng Zhi's 8000km round trip from Baton Rouge to Yorkshire is covered at a speed of 24knot \n",
      "which takes about 7.4994day.\n"
     ]
    }
   ],
   "source": [
    "my $distance = 8000km;\n",
    "my $speed = ♎️'24 knots';\n",
    "my $time = $distance/$speed;\n",
    "\n",
    "say \"The Zheng Zhi's $distance round trip from Baton Rouge to Yorkshire is covered at a speed of $speed \n",
    "which takes about {$time.in('days')}.\";"
   ]
  },
  {
   "cell_type": "code",
   "execution_count": 5,
   "id": "a2c69569-9770-4456-baa5-64231708d977",
   "metadata": {},
   "outputs": [
    {
     "name": "stdout",
     "output_type": "stream",
     "text": [
      "ok\n"
     ]
    }
   ],
   "source": [
    "# For the next bit, we need to make some custom units...\n",
    "Unit.new(defn => '1_000_000 J/kg', names => ['MJ/kg']);\n",
    "\n",
    "# And a new custom measurement type...\n",
    "class SpecificEnergy is Measure {\n",
    "    has $.units where *.name eq <MJ/kg>.any;\n",
    "}\n",
    "\n",
    "# And then to link them with Get Measurement Unit...\n",
    "GetMeaUnit('MJ/kg').NewType('SpecificEnergy');\n",
    "\n",
    "say \"ok\";"
   ]
  },
  {
   "cell_type": "code",
   "execution_count": 6,
   "id": "91ede2c3",
   "metadata": {},
   "outputs": [
    {
     "name": "stdout",
     "output_type": "stream",
     "text": [
      "Woody biomass has an average heating density of 19.8MJ/kg.\n"
     ]
    }
   ],
   "source": [
    "my $specific-energy = ♎️'19.8 MJ/kg';\n",
    "\n",
    "say \"Woody biomass has an average heating density of $specific-energy.\""
   ]
  },
  {
   "cell_type": "code",
   "execution_count": 7,
   "id": "4f0c2f2a",
   "metadata": {},
   "outputs": [
    {
     "name": "stdout",
     "output_type": "stream",
     "text": [
      "ok\n"
     ]
    }
   ],
   "source": [
    "Unit.new(defn => 'm^3 / s', names => ['m^3ps']);\n",
    "Unit.new(defn => 'us-gallons per day', names => ['gpd']);\n",
    "\n",
    "class ConsumptionRate is Measure {\n",
    "    has $.units where *.name eq <m^3ps gpd>.any;\n",
    "}\n",
    "\n",
    "GetMeaUnit('m^3ps').NewType('ConsumptionRate');\n",
    "\n",
    "say \"ok\""
   ]
  },
  {
   "cell_type": "code",
   "execution_count": 8,
   "id": "119ad43b",
   "metadata": {},
   "outputs": [
    {
     "name": "stdout",
     "output_type": "stream",
     "text": [
      "0.0027601960925m^3ps\n"
     ]
    }
   ],
   "source": [
    "Unit.new(defn => 'us-gallons per day', names => ['gpd']);\n",
    "my $fuel-day = ♎️'63_000 gpd';\n",
    "\n",
    "say $fuel-day.in('m^3ps');"
   ]
  },
  {
   "cell_type": "code",
   "execution_count": null,
   "id": "4c7d3cb9",
   "metadata": {},
   "outputs": [],
   "source": [
    "my $sucker = ♎️'24 m^3ps';\n",
    "\n",
    "say $sucker;\n",
    "say $sucker.units;\n",
    "say $sucker.units.type;"
   ]
  },
  {
   "cell_type": "code",
   "execution_count": null,
   "id": "ac5e00e4",
   "metadata": {},
   "outputs": [],
   "source": [
    "Unit.new(defn => 'us-gallons per day', names => ['gpd']);\n",
    "\n",
    "dd my $fuel-day = ♎️'63_000 gpd';\n",
    "#my $fuel-total = $fuel-day * $time;\n",
    "\n",
    "#say \"A Panamax ship can consume $fuel-day of marine fuel per day at that speed, giving a total of $fuel-total for the round trip.\""
   ]
  },
  {
   "cell_type": "code",
   "execution_count": null,
   "id": "a06d7482",
   "metadata": {},
   "outputs": [],
   "source": [
    "my $\n",
    "\n",
    "36MJ/litre"
   ]
  },
  {
   "cell_type": "code",
   "execution_count": null,
   "id": "ed7e892c",
   "metadata": {},
   "outputs": [],
   "source": [
    "my $kgps = Unit.new( defn => 'kg / s', names => ['kgps']);\n",
    "#$kgps.type = 'FuelConsumption';\n",
    "\n",
    "say $kgps.type;"
   ]
  },
  {
   "cell_type": "code",
   "execution_count": null,
   "id": "b1a31d6c-f8ea-4845-a6f8-a903ceded337",
   "metadata": {},
   "outputs": [],
   "source": [
    "$mass = 1000kg;\n",
    "my $time = 60s;\n",
    "\n",
    "dd my Consumption $zhengzhi-consumption = $mass / $time;"
   ]
  },
  {
   "cell_type": "code",
   "execution_count": null,
   "id": "596ee8f1-a2ea-4d66-857b-dd25c436b995",
   "metadata": {},
   "outputs": [],
   "source": [
    "my $zhengzhi-round-trip = $zhengzhi-time * $zhengzhi-consumption;\n",
    "say $zhengzhi-round-trip;"
   ]
  },
  {
   "cell_type": "code",
   "execution_count": null,
   "id": "a5b3785d",
   "metadata": {},
   "outputs": [],
   "source": []
  },
  {
   "cell_type": "code",
   "execution_count": null,
   "id": "0efefb70-0e7f-499e-ab0b-f257127b3e26",
   "metadata": {},
   "outputs": [],
   "source": [
    "use Physics::Measure :ALL;\n",
    "\n",
    "#The Zheng Zhi bulk carrier vessel transported 63,907 tonnes of Drax’s sustainable biomass from the US port of Baton Rouge in Louisiana.\n",
    "\n",
    "my $zz-mass = (63907 * 1000)kg;   \n",
    "say $zz-mass.in: 'tonnes';\n",
    "\n",
    "#Woody biomass has an average heating density of 19.8 MJ/kg\n",
    "\n",
    "my $energy = 19.8MJ;\n",
    "my $mass = 1kg;\n",
    "\n",
    "my $energy-per-kg = $energy/$mass;\n",
    "\n",
    "my $zz-energy = $energy-per-kg * $zz-mass;\n",
    "say $zz-energy.norm; \n",
    "\n",
    "my $zz-distance = 8000km;\n",
    "my $zz-speed = ♎️'25 knots'; \n",
    "\n",
    "my $zz-time = $zz-distance / $zz-speed;\n",
    "say $zz-time.in: 'hours';\n",
    "\n",
    "$mass = 1000kg;\n",
    "my $time = 60s;\n",
    "say $time;\n",
    "my $zz-consumption = $mass / $time;\n",
    "say $zz-consumption;\n",
    "\n"
   ]
  }
 ],
 "metadata": {
  "kernelspec": {
   "display_name": "Raku",
   "language": "raku",
   "name": "raku"
  },
  "language_info": {
   "file_extension": ".raku",
   "mimetype": "text/plain",
   "name": "raku",
   "version": "6.d"
  }
 },
 "nbformat": 4,
 "nbformat_minor": 5
}
