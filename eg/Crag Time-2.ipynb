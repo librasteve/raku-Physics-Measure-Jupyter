{
 "cells": [
  {
   "cell_type": "code",
   "execution_count": 1,
   "id": "4207d553",
   "metadata": {},
   "outputs": [],
   "source": [
    "use Physics::Unit;\n",
    "use Physics::Measure :ALL;"
   ]
  },
  {
   "cell_type": "code",
   "execution_count": 18,
   "id": "ce8481fc",
   "metadata": {},
   "outputs": [
    {
     "data": {
      "text/plain": [
       "0.1"
      ]
     },
     "execution_count": 18,
     "metadata": {},
     "output_type": "execute_result"
    }
   ],
   "source": [
    "$Physics::Measure::number-comma = ''; \n",
    "$Physics::Measure::round-val = 0.1;"
   ]
  },
  {
   "cell_type": "code",
   "execution_count": 2,
   "id": "fd85696d",
   "metadata": {},
   "outputs": [
    {
     "data": {
      "text/plain": [
       "&prefix:<♑️>"
      ]
     },
     "execution_count": 2,
     "metadata": {},
     "output_type": "execute_result"
    }
   ],
   "source": [
    "use Time::Duration::Parser;\n",
    "multi prefix:<♑️> ( Str:D $new ) { Time.new( value => duration-to-seconds($new), units => 's') }\n",
    "multi prefix:<♑️> ( Duration:D $new ) { Time.new( $new ) }"
   ]
  },
  {
   "cell_type": "code",
   "execution_count": 19,
   "id": "4310d01f",
   "metadata": {},
   "outputs": [
    {
     "data": {
      "text/plain": [
       "124:52:03"
      ]
     },
     "execution_count": 19,
     "metadata": {},
     "output_type": "execute_result"
    }
   ],
   "source": [
    "my $passage-time = ♑️'5 days 4 hours 52 minutes 3 seconds';"
   ]
  },
  {
   "cell_type": "code",
   "execution_count": 24,
   "id": "bd488d01",
   "metadata": {},
   "outputs": [
    {
     "data": {
      "text/plain": [
       "5585km"
      ]
     },
     "execution_count": 24,
     "metadata": {},
     "output_type": "execute_result"
    }
   ],
   "source": [
    "my $lon-nyc-dist = ♎️'5,585 km';"
   ]
  },
  {
   "cell_type": "code",
   "execution_count": 26,
   "id": "d90b1792",
   "metadata": {},
   "outputs": [
    {
     "data": {
      "text/plain": [
       "24.2knot"
      ]
     },
     "execution_count": 26,
     "metadata": {},
     "output_type": "execute_result"
    }
   ],
   "source": [
    "($lon-nyc-dist / $passage-time).in: <knots>;"
   ]
  },
  {
   "cell_type": "code",
   "execution_count": 5,
   "id": "3621591d",
   "metadata": {
    "scrolled": true
   },
   "outputs": [
    {
     "data": {
      "text/plain": [
       "11:38:00"
      ]
     },
     "execution_count": 5,
     "metadata": {},
     "output_type": "execute_result"
    }
   ],
   "source": [
    "no strict;\n",
    "\n",
    "$dep=♑️<10:22>;\n",
    "$arr=♑️<11:38>;"
   ]
  },
  {
   "cell_type": "code",
   "execution_count": null,
   "id": "c6b4a632",
   "metadata": {},
   "outputs": [],
   "source": []
  }
 ],
 "metadata": {
  "kernelspec": {
   "display_name": "Raku",
   "language": "raku",
   "name": "raku"
  },
  "language_info": {
   "file_extension": ".raku",
   "mimetype": "text/plain",
   "name": "raku",
   "version": "6.d"
  }
 },
 "nbformat": 4,
 "nbformat_minor": 5
}
