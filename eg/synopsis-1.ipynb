{
 "cells": [
  {
   "cell_type": "code",
   "metadata": {
    "ExecuteTime": {
     "end_time": "2024-11-24T18:55:49.340739Z",
     "start_time": "2024-11-24T18:55:44.584295Z"
    }
   },
   "source": [
    "use Physics::Measure :ALL;\n",
    "\n",
    "#SYNOPSIS 1\n",
    "#see https://github.com/librasteve/raku-Physics-Measure/blob/master/README.md for explanation\n",
    "\n",
    "my \\d = 42m;        say ~d;    #42 m\n",
    "my \\t = 10s;        say ~t;    #10 s\n",
    "\n",
    "my \\u = d / t;      say ~u;    #4.2 m/s\n",
    "my \\a = u / t;      say ~a;    #0.42 m/s^2 \n",
    "\n",
    "my \\m = 25kg;       say ~m;    #25 kg \n",
    "my \\f = m * a;      say ~f;    #10.5 N\n",
    "my \\v = u + a*t;    say ~v;    #8.4 m/s \n",
    "my \\s = u*t + (1/2) * a * t*t;\n",
    "                    say ~s;    #63 m\n",
    "\n",
    "my \\pe = f * s;     say ~pe;    #661.5 J\n",
    "\n",
    "my \\ke1 = (1/2) * m * u*u;\n",
    "my \\ke2 = (1/2) * m * v*v;\n",
    "\n",
    "my \\Δke = ke2 - ke1;\n",
    "(pe cmp Δke).say;       #Same"
   ],
   "outputs": [
    {
     "name": "stdout",
     "output_type": "stream",
     "text": [
      "42m\n",
      "10s\n",
      "4.2m/s\n",
      "0.42m/s^2\n",
      "25kg\n",
      "10.5N\n",
      "8.4m/s\n",
      "63m\n",
      "661.5J\n",
      "Same\n"
     ]
    }
   ],
   "execution_count": 2
  }
 ],
 "metadata": {
  "kernelspec": {
   "display_name": "Raku",
   "language": "raku",
   "name": "raku"
  },
  "language_info": {
   "file_extension": ".raku",
   "mimetype": "text/plain",
   "name": "raku",
   "version": "6.d"
  }
 },
 "nbformat": 4,
 "nbformat_minor": 4
}
