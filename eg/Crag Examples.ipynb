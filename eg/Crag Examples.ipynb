{
 "cells": [
  {
   "cell_type": "code",
   "execution_count": 1,
   "id": "cb0f8c55",
   "metadata": {},
   "outputs": [],
   "source": [
    "use Physics::Unit;\n",
    "use Physics::Measure :ALL;"
   ]
  },
  {
   "cell_type": "code",
   "execution_count": 2,
   "id": "61dd8ab1",
   "metadata": {},
   "outputs": [
    {
     "data": {
      "text/plain": [
       "30mpg"
      ]
     },
     "execution_count": 2,
     "metadata": {},
     "output_type": "execute_result"
    }
   ],
   "source": [
    "my $mpg = ♎️'30 mpg';"
   ]
  },
  {
   "cell_type": "code",
   "execution_count": 3,
   "id": "8167a208",
   "metadata": {},
   "outputs": [
    {
     "data": {
      "text/plain": [
       "10620185.6980394m/l"
      ]
     },
     "execution_count": 3,
     "metadata": {},
     "output_type": "execute_result"
    }
   ],
   "source": [
    "my $mrb = $mpg.rebase;"
   ]
  },
  {
   "cell_type": "code",
   "execution_count": 4,
   "id": "ef916462",
   "metadata": {},
   "outputs": [
    {
     "data": {
      "text/plain": [
       "10620.185698m"
      ]
     },
     "execution_count": 4,
     "metadata": {},
     "output_type": "execute_result"
    }
   ],
   "source": [
    "my $dist-per-litre = $mrb * 1l;"
   ]
  },
  {
   "cell_type": "code",
   "execution_count": 5,
   "id": "5c79cd56",
   "metadata": {},
   "outputs": [
    {
     "data": {
      "text/plain": [
       "53100.9284902m"
      ]
     },
     "execution_count": 5,
     "metadata": {},
     "output_type": "execute_result"
    }
   ],
   "source": [
    "my $dist-per-gal = $dist-per-litre * 5;"
   ]
  },
  {
   "cell_type": "code",
   "execution_count": 6,
   "id": "a6ba5c7e",
   "metadata": {},
   "outputs": [
    {
     "data": {
      "text/plain": [
       "53.1009285km"
      ]
     },
     "execution_count": 6,
     "metadata": {},
     "output_type": "execute_result"
    }
   ],
   "source": [
    "$dist-per-gal.in('km');"
   ]
  },
  {
   "cell_type": "code",
   "execution_count": 7,
   "id": "f992e870",
   "metadata": {},
   "outputs": [
    {
     "data": {
      "text/plain": [
       "32.9953872mile"
      ]
     },
     "execution_count": 7,
     "metadata": {},
     "output_type": "execute_result"
    }
   ],
   "source": [
    "$dist-per-gal.in('miles');"
   ]
  },
  {
   "cell_type": "code",
   "execution_count": 12,
   "id": "9c2af911",
   "metadata": {},
   "outputs": [
    {
     "data": {
      "text/plain": [
       "0.00000009416031m^2"
      ]
     },
     "execution_count": 12,
     "metadata": {},
     "output_type": "execute_result"
    }
   ],
   "source": [
    "my $gpm = (1/ $mpg);"
   ]
  },
  {
   "cell_type": "code",
   "execution_count": 9,
   "id": "964ef2f6",
   "metadata": {
    "scrolled": true
   },
   "outputs": [
    {
     "name": "stderr",
     "output_type": "stream",
     "text": [
      "FuelEfficiency $mpg = Physics::Measure::FuelEfficiency.new(value => 30, units =>   Unit.new( factor => 354006.1899346, offset => 0, defn => 'miles / gallon', type => FuelEfficiency,\n",
      "  dims => [-2,0,0,0,0,0,0,0], dmix => (\"mile\"=>1,\"gallon\"=>-1).MixHash, names => ['mpg','mpgs'] );\n",
      ", error => Error)\n"
     ]
    }
   ],
   "source": [
    "dd $mpg"
   ]
  },
  {
   "cell_type": "code",
   "execution_count": 10,
   "id": "a623a2b6",
   "metadata": {},
   "outputs": [
    {
     "data": {
      "text/plain": [
       "10l/100km"
      ]
     },
     "execution_count": 10,
     "metadata": {},
     "output_type": "execute_result"
    }
   ],
   "source": [
    "my $con = ♎️'10 l/100km';"
   ]
  },
  {
   "cell_type": "code",
   "execution_count": 13,
   "id": "23569e33",
   "metadata": {},
   "outputs": [
    {
     "data": {
      "text/plain": [
       "Less"
      ]
     },
     "execution_count": 13,
     "metadata": {},
     "output_type": "execute_result"
    }
   ],
   "source": [
    "$gpm cmp $con;"
   ]
  },
  {
   "cell_type": "code",
   "execution_count": 15,
   "id": "441ccf80",
   "metadata": {},
   "outputs": [
    {
     "name": "stdout",
     "output_type": "stream",
     "text": [
      "0.0009416031l/100km\n"
     ]
    }
   ],
   "source": [
    "say $gpm.in('l/100km');"
   ]
  },
  {
   "cell_type": "code",
   "execution_count": 16,
   "id": "b010c7cf",
   "metadata": {},
   "outputs": [
    {
     "name": "stderr",
     "output_type": "stream",
     "text": [
      "Area $con = Physics::Measure::Area.new(value => 10, units =>   Unit.new( factor => 0.0001, offset => 0, defn => '0.1 litres /metre', type => Area FuelConsumption,\n",
      "  dims => [2,0,0,0,0,0,0,0], dmix => (\"m\"=>-1,\"l\"=>1).MixHash, names => ['l/100km'] );\n",
      ", error => Error)\n"
     ]
    }
   ],
   "source": [
    "dd $con;"
   ]
  },
  {
   "cell_type": "code",
   "execution_count": null,
   "id": "a5a29653",
   "metadata": {},
   "outputs": [],
   "source": []
  },
  {
   "cell_type": "code",
   "execution_count": null,
   "id": "d2499918",
   "metadata": {},
   "outputs": [],
   "source": []
  }
 ],
 "metadata": {
  "kernelspec": {
   "display_name": "Raku",
   "language": "raku",
   "name": "raku"
  },
  "language_info": {
   "file_extension": ".raku",
   "mimetype": "text/plain",
   "name": "raku",
   "version": "6.d"
  }
 },
 "nbformat": 4,
 "nbformat_minor": 5
}
