{
 "cells": [
  {
   "cell_type": "code",
   "execution_count": null,
   "id": "0efefb70-0e7f-499e-ab0b-f257127b3e26",
   "metadata": {},
   "outputs": [],
   "source": [
    "use Physics::Measure :ALL;\n",
    "\n",
    "#The Zheng Zhi bulk carrier vessel transported 63,907 tonnes of Drax’s sustainable biomass from the US port of Baton Rouge in Louisiana.\n",
    "\n",
    "my $zz-mass = (63907 * 1000)kg;   \n",
    "say $zz-mass.in: 'tonnes';\n",
    "\n",
    "#Woody biomass has an average heating density of 19.8 MJ/kg\n",
    "\n",
    "my $energy = 19.8MJ;\n",
    "my $mass = 1kg;\n",
    "\n",
    "my $energy-per-kg = $energy/$mass;\n",
    "\n",
    "my $zz-energy = $energy-per-kg * $zz-mass;\n",
    "say $zz-energy.norm; \n",
    "\n",
    "my $zz-distance = 8000km;\n",
    "my $zz-speed = ♎️'25 knots'; \n",
    "\n",
    "my $zz-time = $zz-distance / $zz-speed;\n",
    "say $zz-time.in: 'hours';\n",
    "\n",
    "$mass = 1000kg;\n",
    "my $time = 60s;\n",
    "say $time;\n",
    "my $zz-consumption = $mass / $time;\n",
    "say $zz-consumption;\n",
    "\n"
   ]
  },
  {
   "cell_type": "code",
   "execution_count": 1,
   "id": "d6b35b6d-a461-4ad2-b563-cd9758bcc0f2",
   "metadata": {},
   "outputs": [],
   "source": [
    "use Physics::Measure :ALL;"
   ]
  },
  {
   "cell_type": "code",
   "execution_count": 2,
   "id": "5caee839-1612-403d-b32a-83cfe8822230",
   "metadata": {},
   "outputs": [
    {
     "name": "stdout",
     "output_type": "stream",
     "text": [
      "63907metric-ton\n"
     ]
    }
   ],
   "source": [
    "#The Zheng Zhi bulk carrier vessel transported 63,907 tonnes of Drax’s sustainable biomass from the US port of Baton Rouge in Louisiana.\n",
    "\n",
    "my $zz-mass = (63907 * 1000)kg;   \n",
    "say $zz-mass.in: 'tonnes';"
   ]
  },
  {
   "cell_type": "code",
   "execution_count": 3,
   "id": "a2c69569-9770-4456-baa5-64231708d977",
   "metadata": {},
   "outputs": [
    {
     "name": "stdout",
     "output_type": "stream",
     "text": [
      "1.2653586PJ\n"
     ]
    }
   ],
   "source": [
    "#Woody biomass has an average heating density of 19.8 MJ/kg\n",
    "\n",
    "my $energy = 19.8MJ;\n",
    "my $mass = 1kg;\n",
    "\n",
    "my $energy-per-kg = $energy/$mass;\n",
    "\n",
    "my $zz-energy = $energy-per-kg * $zz-mass;\n",
    "say $zz-energy.norm; "
   ]
  },
  {
   "cell_type": "code",
   "execution_count": null,
   "id": "810f8351-6256-447b-b441-4a2bf56cf13b",
   "metadata": {},
   "outputs": [],
   "source": [
    "my $zz-distance = 8000km;\n",
    "my $zz-speed = ♎️'40 km/hr'; \n",
    "\n",
    "my $zz-time = $zz-distance / $zz-speed;\n",
    "say $zz-time.in: 'hours';"
   ]
  },
  {
   "cell_type": "code",
   "execution_count": null,
   "id": "0f59d421-9702-4377-b462-690de0ec1b93",
   "metadata": {},
   "outputs": [],
   "source": [
    "GetMeaUnit('kg/s').NewType('Consumption');\n",
    "\n",
    "class Consumption is Measure {\n",
    "    has $.units where *.name eq <kgps>.any;\n",
    "}\n",
    "say Consumption.units;"
   ]
  },
  {
   "cell_type": "code",
   "execution_count": null,
   "id": "b1a31d6c-f8ea-4845-a6f8-a903ceded337",
   "metadata": {},
   "outputs": [],
   "source": [
    "$mass = 1000kg;\n",
    "my $time = 60s;\n",
    "\n",
    "dd my Consumption $zz-consumption = $mass / $time;"
   ]
  },
  {
   "cell_type": "code",
   "execution_count": null,
   "id": "596ee8f1-a2ea-4d66-857b-dd25c436b995",
   "metadata": {},
   "outputs": [],
   "source": [
    "my $zz-round-trip = $zz-time * $zz-consumption;\n",
    "say $zz-round-trip;"
   ]
  }
 ],
 "metadata": {
  "kernelspec": {
   "display_name": "Raku",
   "language": "raku",
   "name": "raku"
  },
  "language_info": {
   "file_extension": ".raku",
   "mimetype": "text/plain",
   "name": "raku",
   "version": "6.d"
  }
 },
 "nbformat": 4,
 "nbformat_minor": 5
}
