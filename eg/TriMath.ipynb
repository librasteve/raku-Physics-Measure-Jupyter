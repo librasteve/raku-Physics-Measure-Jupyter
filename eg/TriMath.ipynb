{
 "cells": [
  {
   "cell_type": "code",
   "metadata": {
    "ExecuteTime": {
     "end_time": "2024-11-07T22:21:15.843918Z",
     "start_time": "2024-11-07T22:21:14.943589Z"
    }
   },
   "source": [
    "use Math::Polygons;\n",
    "use Physics::Measure;\n",
    "\n",
    "#This Jupyter notebook shows how Physics::Measure can be combined with simple SVG drawings to \n",
    "#illustrate concepts such as the resolution of forces at a point.\n",
    "\n",
    "#This cell is needed to specialize the math classes such as Drawing, Point and Triangle provided by Math::Polygons\n",
    "#by mixing in the Physics::Measure concepts such as Length and Area. Usually this cell should be left unchanged.\n",
    "\n",
    "class M-Drawing is Drawing {\n",
    "    has Str $!scale-units = 'm';\n",
    "\n",
    "    method scale() {\n",
    "        @.elements.map(-> $e { $e.scale( $!scale-units ) }); \n",
    "    }   \n",
    "}\n",
    "class M-Point is Point {\n",
    "    has Length $.x;\n",
    "    has Length $.y;\n",
    "\n",
    "    method scale( $su ) {\n",
    "        $!x .= in( \"$su\" );     \n",
    "        $!y .= in( \"$su\" );     \n",
    "    }\n",
    "}\n",
    "class M-Polygon is Polygon {\n",
    "    has M-Point @.points;\n",
    "}\n",
    "class M-Triangle is M-Polygon {\n",
    "    has M-Point $.apex is required;\n",
    "    has Length  $.side is required;\n",
    "\n",
    "    method scale( $su ) { \n",
    "        $!side .= in( \"$su\" );  \n",
    "    } \n",
    "    method points() {\n",
    "        ($!apex, |self.base-points)\n",
    "    }\n",
    "    method base-points() {\n",
    "        my $y = $!apex.y + self.height;\n",
    "        my \\A = M-Point.new(:$y, x => $!apex.x - ( $!side / 2 ));\n",
    "        my \\C = M-Point.new(:$y, x => $!apex.x + ( $!side / 2 ));\n",
    "        return( A, C );\n",
    "    }\n",
    "    method height() {\n",
    "        sqrt($!side**2 - ($!side/2)**2)\n",
    "    }\n",
    "    method base() {\n",
    "        $!side\n",
    "    }\n",
    "    method area( ) {\n",
    "        ( $.height * $.base ) / 2\n",
    "    }\n",
    "}\n",
    "#### here endeth the specializations"
   ],
   "outputs": [
    {
     "data": {
      "text/plain": [
       "(M-Triangle)"
      ]
     },
     "execution_count": 1,
     "metadata": {},
     "output_type": "execute_result"
    }
   ],
   "execution_count": 1
  },
  {
   "cell_type": "code",
   "metadata": {
    "ExecuteTime": {
     "end_time": "2024-11-07T22:21:18.207191Z",
     "start_time": "2024-11-07T22:21:17.285629Z"
    }
   },
   "source": [
    "#Here is the main part of this code example. This cell is a great place to experiment with values and units and to \n",
    "#see what is going on within the various triangular objects. Checkout the eg/Synopsis workbook to get a better idea \n",
    "#of what can be done with Physics::Measure and the usage of the ♎️ (libra) operator shorthand.\n",
    "\n",
    "$Physics::Measure::round-val = 1;\n",
    "\n",
    "my $x = ♎️'200 m';\n",
    "my $y = ♎️'160 m';\n",
    "my $s = ♎️'500 ft';\n",
    "\n",
    "my $apex     = M-Point.new(x => $x, y => $y),\n",
    "my $triangle = M-Triangle.new( apex => $apex, side => $s );\n",
    "\n",
    "my $drawing = M-Drawing.new( elements => [\n",
    "    $triangle,\n",
    "]);\n",
    "\n",
    "#pre scale & draw\n",
    "say \"Triangle Side:     {$triangle.side}\";\n",
    "say \"Triangle Area:     {$triangle.area}\";"
   ],
   "outputs": [
    {
     "name": "stdout",
     "output_type": "stream",
     "text": [
      "Triangle Side:     500ft\n",
      "Triangle Area:     10057m^2\n"
     ]
    }
   ],
   "execution_count": 2
  },
  {
   "cell_type": "code",
   "metadata": {
    "ExecuteTime": {
     "end_time": "2024-11-07T22:21:26.196549Z",
     "start_time": "2024-11-07T22:21:26.072517Z"
    }
   },
   "source": [
    "#Now to draw the objects\n",
    "$drawing.scale;\n",
    "$drawing.serialize.say;"
   ],
   "outputs": [
    {
     "data": {
      "image/svg+xml": "<svg xmlns=\"http://www.w3.org/2000/svg\" xmlns:svg=\"http://www.w3.org/2000/svg\" xmlns:xlink=\"http://www.w3.org/1999/xlink\" height=\"768\" width=\"1024\"><polygon points=\"200,160 123.8,291.98227153674844 276.2,291.98227153674844\" stroke=\"blue\" stroke-width=\"3\" fill=\"red\" />\n</svg>\n\n"
     },
     "metadata": {},
     "output_type": "display_data"
    }
   ],
   "execution_count": 3
  },
  {
   "cell_type": "code",
   "metadata": {
    "ExecuteTime": {
     "end_time": "2024-11-07T22:21:26.300895Z",
     "start_time": "2024-11-07T22:21:26.221883Z"
    }
   },
   "source": [
    "#And finally to do some math and see how $drawing.scale has adapted the units and values\n",
    "\n",
    "say \"Triangle Side:     {$triangle.side}\";\n",
    "say \"Triangle Apex:     {$triangle.apex}\"; \n",
    "say \"Triangle Height:   {$triangle.height}\";\n",
    "say \"Triangle Area:     {$triangle.area}\";"
   ],
   "outputs": [
    {
     "name": "stdout",
     "output_type": "stream",
     "text": [
      "Triangle Side:     152m\n",
      "Triangle Apex:     200m, 160m\n",
      "Triangle Height:   132m\n",
      "Triangle Area:     10057m^2\n"
     ]
    }
   ],
   "execution_count": 4
  },
  {
   "cell_type": "code",
   "execution_count": null,
   "metadata": {},
   "outputs": [],
   "source": []
  }
 ],
 "metadata": {
  "kernelspec": {
   "display_name": "Raku",
   "language": "raku",
   "name": "raku"
  },
  "language_info": {
   "file_extension": ".p6",
   "mimetype": "text/plain",
   "name": "raku",
   "version": "6.d"
  }
 },
 "nbformat": 4,
 "nbformat_minor": 4
}
