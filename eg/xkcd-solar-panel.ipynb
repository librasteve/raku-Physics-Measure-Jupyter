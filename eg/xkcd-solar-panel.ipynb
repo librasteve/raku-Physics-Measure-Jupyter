{
 "cells": [
  {
   "cell_type": "code",
   "execution_count": 1,
   "id": "51002025",
   "metadata": {},
   "outputs": [],
   "source": [
    "use Physics::Unit;\n",
    "use Physics::Measure :ALL;"
   ]
  },
  {
   "cell_type": "code",
   "execution_count": 2,
   "id": "74cb9ad3",
   "metadata": {},
   "outputs": [],
   "source": [
    "# reset rounding\n",
    "$Physics::Measure::round-val = Nil;"
   ]
  },
  {
   "cell_type": "markdown",
   "id": "49750b03",
   "metadata": {},
   "source": [
    "![image](https://imgs.xkcd.com/comics/solar_panel_placement.png)"
   ]
  },
  {
   "cell_type": "markdown",
   "id": "da8e46bf",
   "metadata": {},
   "source": [
    "## Option A - on the roof\n",
    "\n",
    "To break this down into pieces, we have:       "
   ]
  },
  {
   "cell_type": "code",
   "execution_count": 3,
   "id": "75b879c3",
   "metadata": {},
   "outputs": [
    {
     "data": {
      "text/plain": [
       "()"
      ]
     },
     "execution_count": 3,
     "metadata": {},
     "output_type": "execute_result"
    }
   ],
   "source": [
    "#( 0.20 $/kWh ) * ( ( 4kWh / m2 ) per day ) * ( 1 m2 ) * 20%\n",
    "#       -----         ---------   -------       ----     ---\n",
    "#        [1]             [2]        [3]          [4]     [5]"
   ]
  },
  {
   "cell_type": "code",
   "execution_count": 4,
   "id": "3e470884",
   "metadata": {},
   "outputs": [
    {
     "data": {
      "text/plain": [
       "0.2$/kWh"
      ]
     },
     "execution_count": 4,
     "metadata": {},
     "output_type": "execute_result"
    }
   ],
   "source": [
    "#[1] Dollars per kWh\n",
    "\n",
    "# First we need to create a custom Unit and a custom Measure type\n",
    "# we do not have currency units (yet) so I will ignore the USD currency in the definition\n",
    "\n",
    "Unit.new(defn => '1 / kWh', names => ['$/kWh']);           #dd GetUnit('$/kWh');\n",
    "\n",
    "# And a new custom measurement type...\n",
    "class DollarPerKWH is Measure {\n",
    "    has $.units where *.name eq ('$/kWh').any;\n",
    "}\n",
    "\n",
    "# And then link them with Get Measurement Unit...\n",
    "GetMeaUnit('$/kWh').NewType('DollarPerKWH');\n",
    "\n",
    "my $cost-per-kwh = ♎️'0.2 $/kWh';"
   ]
  },
  {
   "cell_type": "code",
   "execution_count": 5,
   "id": "927324ea",
   "metadata": {},
   "outputs": [
    {
     "data": {
      "text/plain": [
       "4kWh/m2"
      ]
     },
     "execution_count": 5,
     "metadata": {},
     "output_type": "execute_result"
    }
   ],
   "source": [
    "#[2] Insolation\n",
    "\n",
    "my $energy-per-area = (♎️'4 kWh/m2');"
   ]
  },
  {
   "cell_type": "code",
   "execution_count": 6,
   "id": "d0845db4",
   "metadata": {},
   "outputs": [
    {
     "data": {
      "text/plain": [
       "Physics::Measure::Insolation"
      ]
     },
     "execution_count": 6,
     "metadata": {},
     "output_type": "execute_result"
    }
   ],
   "source": [
    "$energy-per-area.^name;"
   ]
  },
  {
   "cell_type": "code",
   "execution_count": 7,
   "id": "3ecb1e75",
   "metadata": {},
   "outputs": [
    {
     "data": {
      "text/plain": [
       "0.000046W/m^2"
      ]
     },
     "execution_count": 7,
     "metadata": {},
     "output_type": "execute_result"
    }
   ],
   "source": [
    "#[3] Irradiance\n",
    "\n",
    "my $power-per-area-on-roof = $energy-per-area / ♎️'1 day';"
   ]
  },
  {
   "cell_type": "code",
   "execution_count": 8,
   "id": "1d576c9a",
   "metadata": {},
   "outputs": [
    {
     "data": {
      "text/plain": [
       "Irradiance"
      ]
     },
     "execution_count": 8,
     "metadata": {},
     "output_type": "execute_result"
    }
   ],
   "source": [
    "$power-per-area-on-roof.units.type;"
   ]
  },
  {
   "cell_type": "code",
   "execution_count": 9,
   "id": "a8cf8171",
   "metadata": {},
   "outputs": [
    {
     "name": "stdout",
     "output_type": "stream",
     "text": [
      "1m^2\n"
     ]
    }
   ],
   "source": [
    "#[4] we can just do 1 m2 like this...\n",
    "\n",
    "say ♎️'1 m2';"
   ]
  },
  {
   "cell_type": "code",
   "execution_count": 10,
   "id": "e44373d1",
   "metadata": {},
   "outputs": [
    {
     "name": "stdout",
     "output_type": "stream",
     "text": [
      "20%\n"
     ]
    }
   ],
   "source": [
    "#[5] and a percent % like this... \n",
    "\n",
    "say ♎️'20 %';    #libra format ♎️'' always needs a space between the number and the unit string"
   ]
  },
  {
   "cell_type": "markdown",
   "id": "dcfa59a1",
   "metadata": {},
   "source": [
    "Putting it all together:"
   ]
  },
  {
   "cell_type": "code",
   "execution_count": 12,
   "id": "d72c7978",
   "metadata": {},
   "outputs": [
    {
     "data": {
      "text/plain": [
       "58.44①"
      ]
     },
     "execution_count": 12,
     "metadata": {},
     "output_type": "execute_result"
    }
   ],
   "source": [
    "my $earnings-per-year-on-roof = $cost-per-kwh * ( $power-per-area-on-roof * ♎️'1 m2' ) * ♎️'20 %' * ♎️'1 year';"
   ]
  },
  {
   "cell_type": "markdown",
   "id": "bce46d61",
   "metadata": {},
   "source": [
    "_the ① indicates that the result is dimensionless_"
   ]
  },
  {
   "cell_type": "markdown",
   "id": "57dcee33",
   "metadata": {},
   "source": [
    "## Option B - on the sun\n",
    "\n",
    "To break this one down into pieces, we have:       "
   ]
  },
  {
   "cell_type": "code",
   "execution_count": 13,
   "id": "be42c695",
   "metadata": {},
   "outputs": [
    {
     "data": {
      "text/plain": [
       "()"
      ]
     },
     "execution_count": 13,
     "metadata": {},
     "output_type": "execute_result"
    }
   ],
   "source": [
    "#( 0.20 $/kWh ) * ( ( Sun Luminosity ) / ( Sun Area ) ) * ( 1 m2 ) * 20%\n",
    "#       -----         --------------       --------         ----     ---\n",
    "#        [1]                [2]               [3]            [4]     [5]"
   ]
  },
  {
   "cell_type": "code",
   "execution_count": 14,
   "id": "828d22d2",
   "metadata": {},
   "outputs": [
    {
     "data": {
      "text/plain": [
       "100"
      ]
     },
     "execution_count": 14,
     "metadata": {},
     "output_type": "execute_result"
    }
   ],
   "source": [
    "# set rounding to cope with big values\n",
    "$Physics::Measure::round-val = 100;"
   ]
  },
  {
   "cell_type": "code",
   "execution_count": 15,
   "id": "961e0f97",
   "metadata": {},
   "outputs": [
    {
     "data": {
      "text/plain": [
       "382800000000000026004684800W"
      ]
     },
     "execution_count": 15,
     "metadata": {},
     "output_type": "execute_result"
    }
   ],
   "source": [
    "#[2] we can use the postfix style for SI units\n",
    "\n",
    "my $solar-luminosity = 3.828e26W;"
   ]
  },
  {
   "cell_type": "code",
   "execution_count": 16,
   "id": "39319092",
   "metadata": {},
   "outputs": [
    {
     "data": {
      "text/plain": [
       "400YW"
      ]
     },
     "execution_count": 16,
     "metadata": {},
     "output_type": "execute_result"
    }
   ],
   "source": [
    "$solar-luminosity.norm;     # and we can auto normalize SI units to the best SI prefix"
   ]
  },
  {
   "cell_type": "code",
   "execution_count": 19,
   "id": "2fe4d9b3",
   "metadata": {},
   "outputs": [
    {
     "data": {
      "text/plain": [
       "6090000000000000000m^2"
      ]
     },
     "execution_count": 19,
     "metadata": {},
     "output_type": "execute_result"
    }
   ],
   "source": [
    "#[3] and the area (also from https://en.wikipedia.org/wiki/Sun)\n",
    "\n",
    "my $solar-area = ♎️'6.09e12 km2';\n",
    "$solar-area.in: <m2>;"
   ]
  },
  {
   "cell_type": "code",
   "execution_count": 20,
   "id": "2de1954a",
   "metadata": {},
   "outputs": [
    {
     "data": {
      "text/plain": [
       "6100peta m2"
      ]
     },
     "execution_count": 20,
     "metadata": {},
     "output_type": "execute_result"
    }
   ],
   "source": [
    "$solar-area.in: <peta m2>;"
   ]
  },
  {
   "cell_type": "code",
   "execution_count": 22,
   "id": "542d66e3",
   "metadata": {},
   "outputs": [
    {
     "data": {
      "text/plain": [
       "62857100W/m^2"
      ]
     },
     "execution_count": 22,
     "metadata": {},
     "output_type": "execute_result"
    }
   ],
   "source": [
    "#combining [2] and [3] gives:\n",
    "\n",
    "my $power-per-area-on-sun = $solar-luminosity / $solar-area;"
   ]
  },
  {
   "cell_type": "code",
   "execution_count": 23,
   "id": "a99987e4",
   "metadata": {},
   "outputs": [
    {
     "data": {
      "text/plain": [
       "62900kW/m^2"
      ]
     },
     "execution_count": 23,
     "metadata": {},
     "output_type": "execute_result"
    }
   ],
   "source": [
    "$power-per-area-on-sun.in: <kW/m^2>;"
   ]
  },
  {
   "cell_type": "markdown",
   "id": "f575ff80",
   "metadata": {},
   "source": [
    "Putting it all together:"
   ]
  },
  {
   "cell_type": "code",
   "execution_count": 25,
   "id": "8cc08a1d",
   "metadata": {},
   "outputs": [
    {
     "data": {
      "text/plain": [
       "79344822857100①"
      ]
     },
     "execution_count": 25,
     "metadata": {},
     "output_type": "execute_result"
    }
   ],
   "source": [
    "my $earnings-per-year-on-sun = $cost-per-kwh * ( $power-per-area-on-sun * ♎️'1 m2' ) * ♎️'20 %' * ♎️'1 year';"
   ]
  },
  {
   "cell_type": "code",
   "execution_count": 26,
   "id": "7ff79efa",
   "metadata": {},
   "outputs": [
    {
     "data": {
      "text/plain": [
       "79 billion USD per year"
      ]
     },
     "execution_count": 26,
     "metadata": {},
     "output_type": "execute_result"
    }
   ],
   "source": [
    "($earnings-per-year-on-sun.value / 1_000_000_000_000).fmt(\"%d billion USD per year\");"
   ]
  },
  {
   "cell_type": "markdown",
   "id": "a0d99f5d",
   "metadata": {},
   "source": [
    "## Conclusion (I)\n",
    "\n",
    "The sharp eyed reader will note that I then felt duty bound to double check my result, since this is adrift of the 22 million USD per year in Randall's comic."
   ]
  },
  {
   "cell_type": "code",
   "execution_count": 52,
   "id": "8d049855",
   "metadata": {},
   "outputs": [
    {
     "data": {
      "text/plain": [
       "&order-of-magnitude"
      ]
     },
     "execution_count": 52,
     "metadata": {},
     "output_type": "execute_result"
    }
   ],
   "source": [
    "# To review the calcs, I thought an order of magnitude approach would help:\n",
    "\n",
    "sub order-of-magnitude($number is copy) {\n",
    "    return Nil if $number == 0;  # Order of magnitude undefined for 0\n",
    "    return floor(log10($number).Int);\n",
    "}"
   ]
  },
  {
   "cell_type": "code",
   "execution_count": 53,
   "id": "8caf733b",
   "metadata": {},
   "outputs": [
    {
     "data": {
      "text/plain": [
       "26"
      ]
     },
     "execution_count": 53,
     "metadata": {},
     "output_type": "execute_result"
    }
   ],
   "source": [
    "my $Lsol-oom = order-of-magnitude( +$solar-luminosity );"
   ]
  },
  {
   "cell_type": "code",
   "execution_count": 54,
   "id": "ea0aaf93",
   "metadata": {},
   "outputs": [
    {
     "data": {
      "text/plain": [
       "18"
      ]
     },
     "execution_count": 54,
     "metadata": {},
     "output_type": "execute_result"
    }
   ],
   "source": [
    "my $Asol-oom = order-of-magnitude( +( $solar-area.in: <m2> ) );"
   ]
  },
  {
   "cell_type": "code",
   "execution_count": 55,
   "id": "bb7d7edb",
   "metadata": {},
   "outputs": [
    {
     "data": {
      "text/plain": [
       "7"
      ]
     },
     "execution_count": 55,
     "metadata": {},
     "output_type": "execute_result"
    }
   ],
   "source": [
    "my $ppa-sun-oom = order-of-magnitude( +$power-per-area-on-sun );"
   ]
  },
  {
   "cell_type": "code",
   "execution_count": 59,
   "id": "955795fb",
   "metadata": {},
   "outputs": [
    {
     "data": {
      "text/plain": [
       "True"
      ]
     },
     "execution_count": 59,
     "metadata": {},
     "output_type": "execute_result"
    }
   ],
   "source": [
    "# check if oom calc is close enough\n",
    "\n",
    "( $ppa-sun-oom - ( $Lsol-oom - $Asol-oom ) ) <= 1;"
   ]
  },
  {
   "cell_type": "markdown",
   "id": "e123306c",
   "metadata": {},
   "source": [
    "- since many factors are invariant $cost-per-kwh, ♎️'1 m2', ♎️'20 %', ♎️'1 year' we can set them aside\n",
    "- the main driver of the result is then the power-per-area"
   ]
  },
  {
   "cell_type": "code",
   "execution_count": 58,
   "id": "849ad319",
   "metadata": {},
   "outputs": [
    {
     "data": {
      "text/plain": [
       "-4"
      ]
     },
     "execution_count": 58,
     "metadata": {},
     "output_type": "execute_result"
    }
   ],
   "source": [
    "# get oom for ppa sun vs ppa roof\n",
    "\n",
    "my $ppa-roof-oom = order-of-magnitude( +$power-per-area-on-roof );"
   ]
  },
  {
   "cell_type": "code",
   "execution_count": 68,
   "id": "29a17df9",
   "metadata": {},
   "outputs": [
    {
     "data": {
      "text/plain": [
       "1357714285700①"
      ]
     },
     "execution_count": 68,
     "metadata": {},
     "output_type": "execute_result"
    }
   ],
   "source": [
    "my $sun-roof-power-ratio = $power-per-area-on-sun / $power-per-area-on-roof;"
   ]
  },
  {
   "cell_type": "code",
   "execution_count": 69,
   "id": "19071d13",
   "metadata": {},
   "outputs": [
    {
     "data": {
      "text/plain": [
       "12"
      ]
     },
     "execution_count": 69,
     "metadata": {},
     "output_type": "execute_result"
    }
   ],
   "source": [
    "my $sun-roof-power-ratio-oom = order-of-magnitude( +$sun-roof-power-ratio );"
   ]
  },
  {
   "cell_type": "code",
   "execution_count": 71,
   "id": "9cc99e7e",
   "metadata": {},
   "outputs": [
    {
     "data": {
      "text/plain": [
       "1357714285700①"
      ]
     },
     "execution_count": 71,
     "metadata": {},
     "output_type": "execute_result"
    }
   ],
   "source": [
    "# get oom for epy sun vs ppa roof\n",
    "\n",
    "my $sun-roof-epy-ratio = $earnings-per-year-on-sun / $$earnings-per-year-on-roof;"
   ]
  },
  {
   "cell_type": "code",
   "execution_count": 72,
   "id": "a120ad9c",
   "metadata": {},
   "outputs": [
    {
     "data": {
      "text/plain": [
       "12"
      ]
     },
     "execution_count": 72,
     "metadata": {},
     "output_type": "execute_result"
    }
   ],
   "source": [
    "my $sun-roof-epy-ratio-oom = order-of-magnitude( +$sun-roof-epy-ratio );"
   ]
  },
  {
   "cell_type": "code",
   "execution_count": 73,
   "id": "8bc71f5f",
   "metadata": {},
   "outputs": [
    {
     "data": {
      "text/plain": [
       "True"
      ]
     },
     "execution_count": 73,
     "metadata": {},
     "output_type": "execute_result"
    }
   ],
   "source": [
    "# check if oom calc is close enough\n",
    "\n",
    "( $sun-roof-epy-ratio-oom - $sun-roof-power-ratio-oom ) <= 1;"
   ]
  },
  {
   "cell_type": "markdown",
   "id": "7649f1e7",
   "metadata": {},
   "source": [
    "- can also visually check \"under the hood\" , and extract the ratio of value by hand since the units are the same:"
   ]
  },
  {
   "cell_type": "code",
   "execution_count": 74,
   "id": "cf40b334",
   "metadata": {
    "scrolled": true
   },
   "outputs": [
    {
     "name": "stderr",
     "output_type": "stream",
     "text": [
      "Irradiance $power-per-area-on-sun = Physics::Measure::Irradiance.new(value => 62857142.85714286e0, units =>   Unit.new( factor => 1, offset => 0, defn => 'W / m^2', type => Irradiance,\n",
      "  dims => [0,1,-3,0,0,0,0,0], dmix => (\"W\"=>1,\"m\"=>-2).MixHash, names => ['W/m^2'] );\n",
      ", error => Error)\n"
     ]
    }
   ],
   "source": [
    "dd $power-per-area-on-sun;"
   ]
  },
  {
   "cell_type": "code",
   "execution_count": 75,
   "id": "c55c4ed9",
   "metadata": {},
   "outputs": [
    {
     "name": "stderr",
     "output_type": "stream",
     "text": [
      "Irradiance $power-per-area-on-roof = Physics::Measure::Irradiance.new(value => <1/21600>, units =>   Unit.new( factor => 1, offset => 0, defn => 'W / m^2', type => Irradiance,\n",
      "  dims => [0,1,-3,0,0,0,0,0], dmix => (\"W\"=>1,\"m\"=>-2).MixHash, names => ['W/m^2'] );\n",
      ", error => Error)\n"
     ]
    }
   ],
   "source": [
    "dd $power-per-area-on-roof;"
   ]
  },
  {
   "cell_type": "code",
   "execution_count": 76,
   "id": "88bdd5e4",
   "metadata": {},
   "outputs": [
    {
     "data": {
      "text/plain": [
       "1357714285714.286"
      ]
     },
     "execution_count": 76,
     "metadata": {},
     "output_type": "execute_result"
    }
   ],
   "source": [
    "62857142.85714286e0 / <1/21600>"
   ]
  },
  {
   "cell_type": "markdown",
   "id": "a1417388",
   "metadata": {},
   "source": [
    "## Conclusion (II)\n",
    "\n",
    "So, I would say, that the right answer is 79 billion USD per year and that my math beats Randall's.\n",
    "\n",
    "BUT - I am too conscious that I may have made an error - either in these calcs or in the Physics::Measure code.\n",
    "\n",
    "In the spirit of check your results and show your workings I think I am partly protected by the grammar school code of Physics marking ... perhaps this only warrants 6/10 if the result is wrong!\n",
    "\n",
    "So, PLEASE do feel free to check my results and let me know what you think!"
   ]
  }
 ],
 "metadata": {
  "kernelspec": {
   "display_name": "Raku",
   "language": "raku",
   "name": "raku"
  },
  "language_info": {
   "file_extension": ".raku",
   "mimetype": "text/plain",
   "name": "raku",
   "version": "6.d"
  }
 },
 "nbformat": 4,
 "nbformat_minor": 5
}
