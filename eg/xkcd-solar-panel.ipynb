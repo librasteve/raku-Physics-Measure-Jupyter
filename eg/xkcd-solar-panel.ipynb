{
 "cells": [
  {
   "cell_type": "code",
   "id": "51002025",
   "metadata": {
    "ExecuteTime": {
     "end_time": "2024-11-07T22:27:24.765507Z",
     "start_time": "2024-11-07T22:27:22.800185Z"
    }
   },
   "source": [
    "use Physics::Unit;\n",
    "use Physics::Measure :ALL;"
   ],
   "outputs": [],
   "execution_count": 1
  },
  {
   "cell_type": "code",
   "id": "74cb9ad3",
   "metadata": {
    "ExecuteTime": {
     "end_time": "2024-11-07T22:29:28.609779Z",
     "start_time": "2024-11-07T22:29:28.543036Z"
    }
   },
   "source": [
    "# reset rounding\n",
    "$Physics::Measure::round-val = Nil;"
   ],
   "outputs": [],
   "execution_count": 35
  },
  {
   "cell_type": "markdown",
   "id": "49750b03",
   "metadata": {},
   "source": [
    "![image](https://imgs.xkcd.com/comics/solar_panel_placement.png)"
   ]
  },
  {
   "cell_type": "markdown",
   "id": "da8e46bf",
   "metadata": {},
   "source": [
    "## Option A - on the roof\n",
    "\n",
    "To break this down into pieces, we have:       "
   ]
  },
  {
   "cell_type": "code",
   "id": "75b879c3",
   "metadata": {
    "ExecuteTime": {
     "end_time": "2024-11-07T22:27:30.486010Z",
     "start_time": "2024-11-07T22:27:30.320535Z"
    }
   },
   "source": [
    "#( 0.20 $/kWh ) * ( ( 4kWh / m2 ) per day ) * ( 1 m2 ) * 20%\n",
    "#       -----         ---------   -------       ----     ---\n",
    "#        [1]             [2]        [3]          [4]     [5]"
   ],
   "outputs": [
    {
     "data": {
      "text/plain": [
       "()"
      ]
     },
     "execution_count": 2,
     "metadata": {},
     "output_type": "execute_result"
    }
   ],
   "execution_count": 2
  },
  {
   "cell_type": "code",
   "id": "3e470884",
   "metadata": {
    "ExecuteTime": {
     "end_time": "2024-11-07T22:27:34.723914Z",
     "start_time": "2024-11-07T22:27:32.997968Z"
    }
   },
   "source": [
    "#[1] Dollars per kWh\n",
    "\n",
    "# First we need to create a custom Unit and a custom Measure type\n",
    "# we do not have currency units (yet) so I will ignore the USD currency in the definition\n",
    "\n",
    "Unit.new(defn => '1 / kWh', names => ['$/kWh']);           #dd GetUnit('$/kWh');\n",
    "\n",
    "# And a new custom measurement type...\n",
    "class DollarPerKWH is Measure {\n",
    "    has $.units where *.name eq ('$/kWh').any;\n",
    "}\n",
    "\n",
    "# And then link them with type-bind...\n",
    "Measure.unit-find('$/kWh').type-bind('DollarPerKWH');\n",
    "\n",
    "my $cost-per-kwh = ♎️'0.2 $/kWh';"
   ],
   "outputs": [
    {
     "data": {
      "text/plain": [
       "0.2$/kWh"
      ]
     },
     "execution_count": 3,
     "metadata": {},
     "output_type": "execute_result"
    }
   ],
   "execution_count": 3
  },
  {
   "cell_type": "code",
   "id": "927324ea",
   "metadata": {
    "ExecuteTime": {
     "end_time": "2024-11-07T22:27:41.518534Z",
     "start_time": "2024-11-07T22:27:40.831713Z"
    }
   },
   "source": [
    "#[2] Insolation\n",
    "\n",
    "my $energy-per-area = (♎️'4 kWh/m2');"
   ],
   "outputs": [
    {
     "data": {
      "text/plain": [
       "4kWh/m2"
      ]
     },
     "execution_count": 4,
     "metadata": {},
     "output_type": "execute_result"
    }
   ],
   "execution_count": 4
  },
  {
   "cell_type": "code",
   "id": "d0845db4",
   "metadata": {
    "ExecuteTime": {
     "end_time": "2024-11-07T22:27:43.767397Z",
     "start_time": "2024-11-07T22:27:43.659140Z"
    }
   },
   "source": [
    "$energy-per-area.^name;"
   ],
   "outputs": [
    {
     "data": {
      "text/plain": [
       "Physics::Measure::Insolation"
      ]
     },
     "execution_count": 5,
     "metadata": {},
     "output_type": "execute_result"
    }
   ],
   "execution_count": 5
  },
  {
   "cell_type": "code",
   "id": "3ecb1e75",
   "metadata": {
    "ExecuteTime": {
     "end_time": "2024-11-07T22:27:46.555800Z",
     "start_time": "2024-11-07T22:27:45.293059Z"
    }
   },
   "source": [
    "#[3] Irradiance\n",
    "\n",
    "my $power-per-area-on-roof = $energy-per-area / ♎️'1 day';"
   ],
   "outputs": [
    {
     "data": {
      "text/plain": [
       "0.000046W/m^2"
      ]
     },
     "execution_count": 6,
     "metadata": {},
     "output_type": "execute_result"
    }
   ],
   "execution_count": 6
  },
  {
   "cell_type": "code",
   "id": "1d576c9a",
   "metadata": {
    "ExecuteTime": {
     "end_time": "2024-11-07T22:27:48.656081Z",
     "start_time": "2024-11-07T22:27:48.542684Z"
    }
   },
   "source": [
    "$power-per-area-on-roof.units.type;"
   ],
   "outputs": [
    {
     "data": {
      "text/plain": [
       "Irradiance"
      ]
     },
     "execution_count": 7,
     "metadata": {},
     "output_type": "execute_result"
    }
   ],
   "execution_count": 7
  },
  {
   "cell_type": "code",
   "id": "a8cf8171",
   "metadata": {
    "ExecuteTime": {
     "end_time": "2024-11-07T22:27:50.730183Z",
     "start_time": "2024-11-07T22:27:50.647955Z"
    }
   },
   "source": [
    "#[4] we can just do 1 m2 like this...\n",
    "\n",
    "say ♎️'1 m2';"
   ],
   "outputs": [
    {
     "name": "stdout",
     "output_type": "stream",
     "text": [
      "1m^2\n"
     ]
    }
   ],
   "execution_count": 8
  },
  {
   "cell_type": "code",
   "id": "e44373d1",
   "metadata": {
    "ExecuteTime": {
     "end_time": "2024-11-07T22:27:52.700467Z",
     "start_time": "2024-11-07T22:27:52.596847Z"
    }
   },
   "source": [
    "#[5] and a percent % like this... \n",
    "\n",
    "say ♎️'20 %';    #libra format ♎️'' always needs a space between the number and the unit string"
   ],
   "outputs": [
    {
     "name": "stdout",
     "output_type": "stream",
     "text": [
      "20%\n"
     ]
    }
   ],
   "execution_count": 9
  },
  {
   "cell_type": "markdown",
   "id": "dcfa59a1",
   "metadata": {},
   "source": [
    "Putting it all together:"
   ]
  },
  {
   "cell_type": "code",
   "id": "d72c7978",
   "metadata": {
    "ExecuteTime": {
     "end_time": "2024-11-07T22:27:56.413577Z",
     "start_time": "2024-11-07T22:27:55.710116Z"
    }
   },
   "source": [
    "my $earnings-per-year-on-roof = $cost-per-kwh * ( $power-per-area-on-roof * ♎️'1 m2' ) * ♎️'20 %' * ♎️'1 year';"
   ],
   "outputs": [
    {
     "data": {
      "text/plain": [
       "58.44①"
      ]
     },
     "execution_count": 10,
     "metadata": {},
     "output_type": "execute_result"
    }
   ],
   "execution_count": 10
  },
  {
   "cell_type": "markdown",
   "id": "bce46d61",
   "metadata": {},
   "source": [
    "_the ① indicates that the result is dimensionless_"
   ]
  },
  {
   "cell_type": "markdown",
   "id": "57dcee33",
   "metadata": {},
   "source": [
    "## Option B - on the sun\n",
    "\n",
    "To break this one down into pieces, we have:       "
   ]
  },
  {
   "cell_type": "code",
   "id": "be42c695",
   "metadata": {
    "ExecuteTime": {
     "end_time": "2024-11-07T22:28:13.871859Z",
     "start_time": "2024-11-07T22:28:13.785208Z"
    }
   },
   "source": [
    "#( 0.20 $/kWh ) * ( ( Sun Luminosity ) / ( Sun Area ) ) * ( 1 m2 ) * 20%\n",
    "#       -----         --------------       --------         ----     ---\n",
    "#        [1]                [2]               [3]            [4]     [5]"
   ],
   "outputs": [
    {
     "data": {
      "text/plain": [
       "()"
      ]
     },
     "execution_count": 11,
     "metadata": {},
     "output_type": "execute_result"
    }
   ],
   "execution_count": 11
  },
  {
   "cell_type": "code",
   "id": "828d22d2",
   "metadata": {
    "ExecuteTime": {
     "end_time": "2024-11-07T22:28:21.129136Z",
     "start_time": "2024-11-07T22:28:21.055401Z"
    }
   },
   "source": [
    "# set rounding to cope with big values\n",
    "$Physics::Measure::round-val = 100;"
   ],
   "outputs": [
    {
     "data": {
      "text/plain": [
       "100"
      ]
     },
     "execution_count": 12,
     "metadata": {},
     "output_type": "execute_result"
    }
   ],
   "execution_count": 12
  },
  {
   "cell_type": "code",
   "id": "961e0f97",
   "metadata": {
    "ExecuteTime": {
     "end_time": "2024-11-07T22:28:23.249588Z",
     "start_time": "2024-11-07T22:28:22.790275Z"
    }
   },
   "source": [
    "#[2] we can use the postfix style for SI units\n",
    "\n",
    "my $solar-luminosity = 3.828e26W;"
   ],
   "outputs": [
    {
     "data": {
      "text/plain": [
       "382800000000000026004684800W"
      ]
     },
     "execution_count": 13,
     "metadata": {},
     "output_type": "execute_result"
    }
   ],
   "execution_count": 13
  },
  {
   "cell_type": "code",
   "id": "39319092",
   "metadata": {
    "ExecuteTime": {
     "end_time": "2024-11-07T22:28:30.259929Z",
     "start_time": "2024-11-07T22:28:27.473668Z"
    }
   },
   "source": [
    "$solar-luminosity.norm;     # and we can auto normalize SI units to the best SI prefix"
   ],
   "outputs": [
    {
     "data": {
      "text/plain": [
       "400YW"
      ]
     },
     "execution_count": 14,
     "metadata": {},
     "output_type": "execute_result"
    }
   ],
   "execution_count": 14
  },
  {
   "cell_type": "code",
   "id": "2fe4d9b3",
   "metadata": {
    "ExecuteTime": {
     "end_time": "2024-11-07T22:28:31.944948Z",
     "start_time": "2024-11-07T22:28:31.215246Z"
    }
   },
   "source": [
    "#[3] and the area (also from https://en.wikipedia.org/wiki/Sun)\n",
    "\n",
    "my $solar-area = ♎️'6.09e12 km2';\n",
    "$solar-area.in: <m2>;"
   ],
   "outputs": [
    {
     "data": {
      "text/plain": [
       "6090000000000000000m^2"
      ]
     },
     "execution_count": 15,
     "metadata": {},
     "output_type": "execute_result"
    }
   ],
   "execution_count": 15
  },
  {
   "cell_type": "code",
   "id": "2de1954a",
   "metadata": {
    "ExecuteTime": {
     "end_time": "2024-11-07T22:28:33.648708Z",
     "start_time": "2024-11-07T22:28:32.921117Z"
    }
   },
   "source": [
    "$solar-area.in: <peta m2>;"
   ],
   "outputs": [
    {
     "data": {
      "text/plain": [
       "6100peta m2"
      ]
     },
     "execution_count": 16,
     "metadata": {},
     "output_type": "execute_result"
    }
   ],
   "execution_count": 16
  },
  {
   "cell_type": "code",
   "id": "542d66e3",
   "metadata": {
    "ExecuteTime": {
     "end_time": "2024-11-07T22:28:34.664726Z",
     "start_time": "2024-11-07T22:28:34.575679Z"
    }
   },
   "source": [
    "#combining [2] and [3] gives:\n",
    "\n",
    "my $power-per-area-on-sun = $solar-luminosity / $solar-area;"
   ],
   "outputs": [
    {
     "data": {
      "text/plain": [
       "62857100W/m^2"
      ]
     },
     "execution_count": 17,
     "metadata": {},
     "output_type": "execute_result"
    }
   ],
   "execution_count": 17
  },
  {
   "cell_type": "code",
   "id": "a99987e4",
   "metadata": {
    "ExecuteTime": {
     "end_time": "2024-11-07T22:28:36.237Z",
     "start_time": "2024-11-07T22:28:35.838761Z"
    }
   },
   "source": [
    "$power-per-area-on-sun.in: <kW/m^2>;"
   ],
   "outputs": [
    {
     "data": {
      "text/plain": [
       "62900kW/m^2"
      ]
     },
     "execution_count": 18,
     "metadata": {},
     "output_type": "execute_result"
    }
   ],
   "execution_count": 18
  },
  {
   "cell_type": "markdown",
   "id": "f575ff80",
   "metadata": {},
   "source": [
    "Putting it all together:"
   ]
  },
  {
   "cell_type": "code",
   "id": "8cc08a1d",
   "metadata": {
    "ExecuteTime": {
     "end_time": "2024-11-07T22:28:37.964284Z",
     "start_time": "2024-11-07T22:28:37.820848Z"
    }
   },
   "source": [
    "my $earnings-per-year-on-sun = $cost-per-kwh * ( $power-per-area-on-sun * ♎️'1 m2' ) * ♎️'20 %' * ♎️'1 year';"
   ],
   "outputs": [
    {
     "data": {
      "text/plain": [
       "79344822857100①"
      ]
     },
     "execution_count": 19,
     "metadata": {},
     "output_type": "execute_result"
    }
   ],
   "execution_count": 19
  },
  {
   "cell_type": "code",
   "id": "7ff79efa",
   "metadata": {
    "ExecuteTime": {
     "end_time": "2024-11-07T22:28:40.147607Z",
     "start_time": "2024-11-07T22:28:40.024551Z"
    }
   },
   "source": [
    "($earnings-per-year-on-sun.value / 1_000_000_000_000).fmt(\"%d billion USD per year\");"
   ],
   "outputs": [
    {
     "data": {
      "text/plain": [
       "79 billion USD per year"
      ]
     },
     "execution_count": 20,
     "metadata": {},
     "output_type": "execute_result"
    }
   ],
   "execution_count": 20
  },
  {
   "cell_type": "markdown",
   "id": "a0d99f5d",
   "metadata": {},
   "source": [
    "## Conclusion (I)\n",
    "\n",
    "The sharp eyed reader will note that I then felt duty bound to double check my result, since this is adrift of the 22 million USD per year in Randall's comic."
   ]
  },
  {
   "cell_type": "code",
   "id": "8d049855",
   "metadata": {
    "ExecuteTime": {
     "end_time": "2024-11-07T22:28:42.608923Z",
     "start_time": "2024-11-07T22:28:42.163767Z"
    }
   },
   "source": [
    "# To review the calcs, I thought an order of magnitude approach would help:\n",
    "\n",
    "sub order-of-magnitude($number is copy) {\n",
    "    return Nil if $number == 0;  # Order of magnitude undefined for 0\n",
    "    return floor(log10($number).Int);\n",
    "}"
   ],
   "outputs": [
    {
     "data": {
      "text/plain": [
       "&order-of-magnitude"
      ]
     },
     "execution_count": 21,
     "metadata": {},
     "output_type": "execute_result"
    }
   ],
   "execution_count": 21
  },
  {
   "cell_type": "code",
   "id": "8caf733b",
   "metadata": {
    "ExecuteTime": {
     "end_time": "2024-11-07T22:28:43.615215Z",
     "start_time": "2024-11-07T22:28:43.524831Z"
    }
   },
   "source": [
    "my $Lsol-oom = order-of-magnitude( +$solar-luminosity );"
   ],
   "outputs": [
    {
     "data": {
      "text/plain": [
       "26"
      ]
     },
     "execution_count": 22,
     "metadata": {},
     "output_type": "execute_result"
    }
   ],
   "execution_count": 22
  },
  {
   "cell_type": "code",
   "id": "ea0aaf93",
   "metadata": {
    "ExecuteTime": {
     "end_time": "2024-11-07T22:28:49.764587Z",
     "start_time": "2024-11-07T22:28:49.654587Z"
    }
   },
   "source": [
    "my $Asol-oom = order-of-magnitude( +( $solar-area.in: <m2> ) );"
   ],
   "outputs": [
    {
     "data": {
      "text/plain": [
       "18"
      ]
     },
     "execution_count": 23,
     "metadata": {},
     "output_type": "execute_result"
    }
   ],
   "execution_count": 23
  },
  {
   "cell_type": "code",
   "id": "bb7d7edb",
   "metadata": {
    "ExecuteTime": {
     "end_time": "2024-11-07T22:28:51.843900Z",
     "start_time": "2024-11-07T22:28:51.759016Z"
    }
   },
   "source": [
    "my $ppa-sun-oom = order-of-magnitude( +$power-per-area-on-sun );"
   ],
   "outputs": [
    {
     "data": {
      "text/plain": [
       "7"
      ]
     },
     "execution_count": 24,
     "metadata": {},
     "output_type": "execute_result"
    }
   ],
   "execution_count": 24
  },
  {
   "cell_type": "code",
   "id": "955795fb",
   "metadata": {
    "ExecuteTime": {
     "end_time": "2024-11-07T22:28:53.115858Z",
     "start_time": "2024-11-07T22:28:52.924916Z"
    }
   },
   "source": [
    "# check if oom calc is close enough\n",
    "\n",
    "( $ppa-sun-oom - ( $Lsol-oom - $Asol-oom ) ) <= 1;"
   ],
   "outputs": [
    {
     "data": {
      "text/plain": [
       "True"
      ]
     },
     "execution_count": 25,
     "metadata": {},
     "output_type": "execute_result"
    }
   ],
   "execution_count": 25
  },
  {
   "cell_type": "markdown",
   "id": "e123306c",
   "metadata": {},
   "source": [
    "- since many factors are invariant $cost-per-kwh, ♎️'1 m2', ♎️'20 %', ♎️'1 year' we can set them aside\n",
    "- the main driver of the result is then the power-per-area"
   ]
  },
  {
   "cell_type": "code",
   "id": "849ad319",
   "metadata": {
    "ExecuteTime": {
     "end_time": "2024-11-07T22:29:02.976627Z",
     "start_time": "2024-11-07T22:29:02.845805Z"
    }
   },
   "source": [
    "# get oom for ppa sun vs ppa roof\n",
    "\n",
    "my $ppa-roof-oom = order-of-magnitude( +$power-per-area-on-roof );"
   ],
   "outputs": [
    {
     "data": {
      "text/plain": [
       "-4"
      ]
     },
     "execution_count": 26,
     "metadata": {},
     "output_type": "execute_result"
    }
   ],
   "execution_count": 26
  },
  {
   "cell_type": "code",
   "id": "29a17df9",
   "metadata": {
    "ExecuteTime": {
     "end_time": "2024-11-07T22:29:06.770493Z",
     "start_time": "2024-11-07T22:29:06.666473Z"
    }
   },
   "source": [
    "my $sun-roof-power-ratio = $power-per-area-on-sun / $power-per-area-on-roof;"
   ],
   "outputs": [
    {
     "data": {
      "text/plain": [
       "1357714285700①"
      ]
     },
     "execution_count": 27,
     "metadata": {},
     "output_type": "execute_result"
    }
   ],
   "execution_count": 27
  },
  {
   "cell_type": "code",
   "id": "19071d13",
   "metadata": {
    "ExecuteTime": {
     "end_time": "2024-11-07T22:29:08.186653Z",
     "start_time": "2024-11-07T22:29:08.103491Z"
    }
   },
   "source": [
    "my $sun-roof-power-ratio-oom = order-of-magnitude( +$sun-roof-power-ratio );"
   ],
   "outputs": [
    {
     "data": {
      "text/plain": [
       "12"
      ]
     },
     "execution_count": 28,
     "metadata": {},
     "output_type": "execute_result"
    }
   ],
   "execution_count": 28
  },
  {
   "cell_type": "code",
   "id": "9cc99e7e",
   "metadata": {
    "ExecuteTime": {
     "end_time": "2024-11-07T22:29:09.094929Z",
     "start_time": "2024-11-07T22:29:09.015510Z"
    }
   },
   "source": [
    "# get oom for epy sun vs ppa roof\n",
    "\n",
    "my $sun-roof-epy-ratio = $earnings-per-year-on-sun / $$earnings-per-year-on-roof;"
   ],
   "outputs": [
    {
     "data": {
      "text/plain": [
       "1357714285700①"
      ]
     },
     "execution_count": 29,
     "metadata": {},
     "output_type": "execute_result"
    }
   ],
   "execution_count": 29
  },
  {
   "cell_type": "code",
   "id": "a120ad9c",
   "metadata": {
    "ExecuteTime": {
     "end_time": "2024-11-07T22:29:09.898150Z",
     "start_time": "2024-11-07T22:29:09.807870Z"
    }
   },
   "source": [
    "my $sun-roof-epy-ratio-oom = order-of-magnitude( +$sun-roof-epy-ratio );"
   ],
   "outputs": [
    {
     "data": {
      "text/plain": [
       "12"
      ]
     },
     "execution_count": 30,
     "metadata": {},
     "output_type": "execute_result"
    }
   ],
   "execution_count": 30
  },
  {
   "cell_type": "code",
   "id": "8bc71f5f",
   "metadata": {
    "ExecuteTime": {
     "end_time": "2024-11-07T22:29:10.786186Z",
     "start_time": "2024-11-07T22:29:10.722309Z"
    }
   },
   "source": [
    "# check if oom calc is close enough\n",
    "\n",
    "( $sun-roof-epy-ratio-oom - $sun-roof-power-ratio-oom ) <= 1;"
   ],
   "outputs": [
    {
     "data": {
      "text/plain": [
       "True"
      ]
     },
     "execution_count": 31,
     "metadata": {},
     "output_type": "execute_result"
    }
   ],
   "execution_count": 31
  },
  {
   "cell_type": "markdown",
   "id": "7649f1e7",
   "metadata": {},
   "source": [
    "- can also visually check \"under the hood\" , and extract the ratio of value by hand since the units are the same:"
   ]
  },
  {
   "cell_type": "code",
   "id": "cf40b334",
   "metadata": {
    "scrolled": true,
    "ExecuteTime": {
     "end_time": "2024-11-07T22:29:12.404052Z",
     "start_time": "2024-11-07T22:29:12.310989Z"
    }
   },
   "source": [
    "dd $power-per-area-on-sun;"
   ],
   "outputs": [
    {
     "name": "stderr",
     "output_type": "stream",
     "text": [
      "$power-per-area-on-sun = Physics::Measure::Irradiance.new(value => 62857142.85714286e0, units =>   Unit.new( factor => 1, offset => 0, defn => 'W / m^2', type => 'Irradiance',\n",
      "  dims => [0,1,-3,0,0,0,0,0], dmix => (\"W\"=>1,\"m\"=>-2).MixHash, names => ['W/m^2'] );\n",
      ", error => Error)\n"
     ]
    }
   ],
   "execution_count": 32
  },
  {
   "cell_type": "code",
   "id": "c55c4ed9",
   "metadata": {
    "ExecuteTime": {
     "end_time": "2024-11-07T22:29:16.098024Z",
     "start_time": "2024-11-07T22:29:16.034598Z"
    }
   },
   "source": [
    "dd $power-per-area-on-roof;"
   ],
   "outputs": [
    {
     "name": "stderr",
     "output_type": "stream",
     "text": [
      "$power-per-area-on-roof = Physics::Measure::Irradiance.new(value => <1/21600>, units =>   Unit.new( factor => 1, offset => 0, defn => 'W / m^2', type => 'Irradiance',\n",
      "  dims => [0,1,-3,0,0,0,0,0], dmix => (\"W\"=>1,\"m\"=>-2).MixHash, names => ['W/m^2'] );\n",
      ", error => Error)\n"
     ]
    }
   ],
   "execution_count": 33
  },
  {
   "cell_type": "code",
   "id": "88bdd5e4",
   "metadata": {
    "ExecuteTime": {
     "end_time": "2024-11-07T22:29:19.101546Z",
     "start_time": "2024-11-07T22:29:19.010413Z"
    }
   },
   "source": [
    "62857142.85714286e0 / <1/21600>"
   ],
   "outputs": [
    {
     "data": {
      "text/plain": [
       "1357714285714.286"
      ]
     },
     "execution_count": 34,
     "metadata": {},
     "output_type": "execute_result"
    }
   ],
   "execution_count": 34
  },
  {
   "cell_type": "markdown",
   "id": "a1417388",
   "metadata": {},
   "source": [
    "## Conclusion (II)\n",
    "\n",
    "So, I would say, that the right answer is 79 billion USD per year and that my math beats Randall's.\n",
    "\n",
    "BUT - I am too conscious that I may have made an error - either in these calcs or in the Physics::Measure code.\n",
    "\n",
    "In the spirit of check your results and show your workings I think I am partly protected by the grammar school code of Physics marking ... perhaps this only warrants 6/10 if the result is wrong!\n",
    "\n",
    "So, PLEASE do feel free to check my results and let me know what you think!"
   ]
  }
 ],
 "metadata": {
  "kernelspec": {
   "display_name": "Raku",
   "language": "raku",
   "name": "raku"
  },
  "language_info": {
   "file_extension": ".raku",
   "mimetype": "text/plain",
   "name": "raku",
   "version": "6.d"
  }
 },
 "nbformat": 4,
 "nbformat_minor": 5
}
