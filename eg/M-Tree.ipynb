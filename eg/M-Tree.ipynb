{
 "cells": [
  {
   "cell_type": "code",
   "metadata": {
    "ExecuteTime": {
     "end_time": "2024-11-07T17:31:26.780175Z",
     "start_time": "2024-11-07T17:31:24.724212Z"
    }
   },
   "source": [
    "use Math::Polygons;\n",
    "use Physics::Measure :ALL;\n",
    "\n",
    "$Physics::Measure::round-val = 1;\n",
    "\n",
    "#This Jupyter notebook shows how Physics::Measure can be combined with simple SVG drawings to \n",
    "#illustrate concepts such as calculation of polygon height and area.\n",
    "\n",
    "#This setup cell inherits from the math classes such as Point and Triangle provided by Math::Polygons and \n",
    "#overrides plain Numeric variables with Physics::Measure classes of Length and Area.\n",
    "\n",
    "class M-Point is Point {\n",
    "    has Length $.x;\n",
    "    has Length $.y;\n",
    "}\n",
    "\n",
    "class M-Polygon is Polygon {\n",
    "    has M-Point @.points;\n",
    "}\n",
    "\n",
    "class M-Rectangle is Rectangle {\n",
    "    has M-Point  $.origin;\n",
    "    has Length   $.width;\n",
    "    has Length   $.height;\n",
    "\n",
    "    method area( --> Area ) {\n",
    "        $!height * $!width\n",
    "    }\n",
    "}\n",
    "\n",
    "class M-Triangle is Triangle {\n",
    "    has M-Point $.apex is required;\n",
    "    has Length  $.side is required;\n",
    "\n",
    "    method height( --> Length ) {\n",
    "        sqrt($!side**2 - ($!side/2)**2)\n",
    "    }\n",
    "    method area( --> Area ) {\n",
    "        ( $.height * $!side ) / 2\n",
    "    }\n",
    "}"
   ],
   "outputs": [
    {
     "data": {
      "text/plain": [
       "(M-Triangle)"
      ]
     },
     "execution_count": 1,
     "metadata": {},
     "output_type": "execute_result"
    }
   ],
   "execution_count": 1
  },
  {
   "cell_type": "code",
   "metadata": {
    "ExecuteTime": {
     "end_time": "2024-11-07T17:31:30.989368Z",
     "start_time": "2024-11-07T17:31:29.877529Z"
    }
   },
   "source": [
    "class M-Tree {\n",
    "    has M-Point $.apex;\n",
    "    has Length  $.size;\n",
    "    \n",
    "    has M-Triangle  $!top;\n",
    "    has M-Triangle  $!middle;\n",
    "    has M-Triangle  $!bottom;\n",
    "    has M-Rectangle $!base;\n",
    "    \n",
    "    method elements {\n",
    "        [ $!top, $!middle, $!bottom, $!base ]\n",
    "    }\n",
    "    method height( --> Length ) {\n",
    "        [+] $.elements.map(*.height)\n",
    "    }\n",
    "    method area( --> Area ) {\n",
    "        [+] $.elements.map(*.area)\n",
    "    }\n",
    "    \n",
    "    method TWEAK {\n",
    "        my $stroke := my $fill;\n",
    "        $fill = \"green\";\n",
    "        \n",
    "        #calculate x co-ords relative to top of drawing, according to height\n",
    "        my \\x := $!apex.x;\n",
    "        my \\s := $!size;\n",
    "        my \\p = [ (s / 4) , ( s * 3/8), (s / 2) ];\n",
    "        \n",
    "        $!top    = M-Triangle.new( :$stroke, :$fill,\n",
    "                                   apex   => M-Point.new(x, p[0]), \n",
    "                                   side   => p[0]    );\n",
    "        $!middle = M-Triangle.new( :$stroke, :$fill,  \n",
    "                                   apex   => M-Point.new(x, p[1]), \n",
    "                                   side   => p[1]    );\n",
    "        $!bottom = M-Triangle.new( :$stroke, :$fill, \n",
    "                                   apex   => M-Point.new(x, p[2]), \n",
    "                                   side   => p[2]    );\n",
    "                                   \n",
    "        $fill   = \"brown\";\n",
    "        $!base  = M-Rectangle.new( :$stroke, :$fill, \n",
    "                                   origin  => M-Point.new(( 0.9 * x ), (([+] p) - (0.2 * s))), \n",
    "                                   width   => 0.1 * s, \n",
    "                                   height  => 0.2 * s );\n",
    "    }\n",
    "    \n",
    "}\n",
    "\n",
    "#my $size = 200m;\n",
    "my $size = ♎️ '50 ft';\n",
    "\n",
    "my M-Point $apex      .= new(($size / 2), ($size / 4));\n",
    "my M-Tree  $xmas-tree .= new(:$apex, :$size);\n",
    "\n",
    "say \"Tree Height is {$xmas-tree.height} (including the base)\";\n",
    "say \"Tree Area is {$xmas-tree.area}\";\n",
    "\n",
    "my $drawing = Drawing.new( elements => $xmas-tree.elements );\n",
    "$drawing.serialize.say;\n"
   ],
   "outputs": [
    {
     "name": "stdout",
     "output_type": "stream",
     "text": [
      "Tree Height is 18m (including the base)\n",
      "Tree Area is 50m^2\n"
     ]
    },
    {
     "data": {
      "image/svg+xml": "<svg xmlns=\"http://www.w3.org/2000/svg\" xmlns:svg=\"http://www.w3.org/2000/svg\" xmlns:xlink=\"http://www.w3.org/1999/xlink\" height=\"768\" width=\"1024\"><polygon points=\"25,12.5 18.75,15.79955678841871 31.25,15.79955678841871\" stroke=\"green\" stroke-width=\"3\" fill=\"green\" />\n<polygon points=\"25,18.75 15.625,23.69933518262807 34.375,23.69933518262807\" stroke=\"green\" stroke-width=\"3\" fill=\"green\" />\n<polygon points=\"25,25 12.5,31.59911357683742 37.5,31.59911357683742\" stroke=\"green\" stroke-width=\"3\" fill=\"green\" />\n<rect x=\"22.5\" y=\"46.25\" width=\"5\" height=\"10\" stroke=\"brown\" stroke-width=\"3\" fill=\"brown\" />\n</svg>\n\n"
     },
     "metadata": {},
     "output_type": "display_data"
    }
   ],
   "execution_count": 2
  },
  {
   "cell_type": "code",
   "metadata": {
    "ExecuteTime": {
     "end_time": "2024-11-07T17:31:37.910798Z",
     "start_time": "2024-11-07T17:31:34.198503Z"
    }
   },
   "source": [
    "my $tri1 = M-Triangle.new(stroke => \"green\", fill => \"green\", \n",
    "                apex => M-Point.new(100m, 50m),\n",
    "                side => 50m, \n",
    "            );  \n",
    "my $tri2 = M-Triangle.new(stroke => \"green\", fill => \"green\", \n",
    "                apex => M-Point.new(100m, 75m),\n",
    "                side => 75m, \n",
    "            );  \n",
    "my $tri3 = M-Triangle.new(stroke => \"green\", fill => \"green\", \n",
    "                apex => M-Point.new(100m, 100m),\n",
    "                side => 100m,\n",
    "            );  \n",
    "my $rect  = M-Rectangle.new(stroke => \"brown\", fill => \"brown\",\n",
    "                origin  => M-Point.new(90m, 185m),\n",
    "                width   => 20m, \n",
    "                height  => 40m, \n",
    "            );\n",
    "            \n",
    "my @elements =  [ $tri1, $tri2, $tri3, $rect ];\n",
    "            \n",
    "say \"Tree Height is \", [+] @elements.map(*.height);\n",
    "say \"Tree Area is \",   [+] @elements.map(*.area);\n",
    "\n",
    "my $tree = Group.new( :@elements );\n",
    "my $drawing = Drawing.new( elements => $tree );\n",
    "$drawing.serialize.say;"
   ],
   "outputs": [
    {
     "name": "stdout",
     "output_type": "stream",
     "text": [
      "Tree Height is 235m\n",
      "Tree Area is 8648m^2\n"
     ]
    },
    {
     "data": {
      "image/svg+xml": "<svg xmlns=\"http://www.w3.org/2000/svg\" xmlns:svg=\"http://www.w3.org/2000/svg\" xmlns:xlink=\"http://www.w3.org/1999/xlink\" height=\"768\" width=\"1024\"><g><polygon points=\"100,50 75,93.30127018922192 125,93.30127018922192\" stroke=\"green\" stroke-width=\"3\" fill=\"green\" />\n<polygon points=\"100,75 62.5,139.9519052838329 137.5,139.9519052838329\" stroke=\"green\" stroke-width=\"3\" fill=\"green\" />\n<polygon points=\"100,100 50,186.60254037844385 150,186.60254037844385\" stroke=\"green\" stroke-width=\"3\" fill=\"green\" />\n<rect x=\"90\" y=\"185\" width=\"20\" height=\"40\" stroke=\"brown\" stroke-width=\"3\" fill=\"brown\" />\n</g>\n</svg>\n\n"
     },
     "metadata": {},
     "output_type": "display_data"
    }
   ],
   "execution_count": 3
  },
  {
   "cell_type": "code",
   "execution_count": null,
   "metadata": {},
   "outputs": [],
   "source": []
  }
 ],
 "metadata": {
  "kernelspec": {
   "display_name": "Raku",
   "language": "raku",
   "name": "raku"
  },
  "language_info": {
   "file_extension": ".raku",
   "mimetype": "text/plain",
   "name": "raku",
   "version": "6.d"
  }
 },
 "nbformat": 4,
 "nbformat_minor": 4
}
