{
 "cells": [
  {
   "cell_type": "markdown",
   "id": "dde28b57",
   "metadata": {},
   "source": "# Mega Buildings Model"
  },
  {
   "cell_type": "markdown",
   "id": "d9a54c86",
   "metadata": {},
   "source": [
    "This raku workbook is intended to help understand the effect of mega buildings on the rotation period of the Earth\n",
    "\n",
    "Scientists have also discovered that so-called megastructures built by humans can also affect the Earth’s rotation. Take the 185m (about 600 feet) tall Three Gorges Dam. Spanning the Yangtze River in Hubei province, Central China, it is the largest dam in the world and is over 2,300m (7,500 feet) in length.\n",
    "\n",
    "More information can be found at https://www.sciencefocus.com/news/human-structures-slowing-earths-spin"
   ]
  },
  {
   "cell_type": "markdown",
   "id": "ff48d535",
   "metadata": {},
   "source": "![image](https://c02.purpledshub.com/uploads/sites/41/2024/10/The-Three-Gorges-Dam-megastructure-in-China.jpg?w=1200&webp=1)"
  },
  {
   "cell_type": "markdown",
   "id": "db35f1fe",
   "metadata": {},
   "source": [
    "## 0. Some Setup"
   ]
  },
  {
   "cell_type": "code",
   "id": "d6b35b6d-a461-4ad2-b563-cd9758bcc0f2",
   "metadata": {
    "ExecuteTime": {
     "end_time": "2024-12-19T17:03:26.209508Z",
     "start_time": "2024-12-19T17:03:24.272378Z"
    }
   },
   "source": [
    "use Physics::Measure :ALL;\n",
    "\n",
    "$Physics::Measure::round-val = 0.01;"
   ],
   "outputs": [
    {
     "data": {
      "text/plain": [
       "0.01"
      ]
     },
     "execution_count": 2,
     "metadata": {},
     "output_type": "execute_result"
    }
   ],
   "execution_count": 2
  },
  {
   "cell_type": "markdown",
   "id": "fdcb4b21",
   "metadata": {},
   "source": "## 1. Dam Big"
  },
  {
   "cell_type": "code",
   "id": "5caee839-1612-403d-b32a-83cfe8822230",
   "metadata": {
    "ExecuteTime": {
     "end_time": "2024-12-19T17:03:27.664876Z",
     "start_time": "2024-12-19T17:03:26.261431Z"
    }
   },
   "source": [
    "my $dam-ht = 185m;\n",
    "my $dam-wd = 2300m;\n",
    "\n",
    "say \"Take the $dam-ht (ab  out {$dam-ht.in: < feet>}) tall Three Gorges Dam. Spanning the Yangtze River in Hubei province, Central China, it is the largest dam in the world and is over $dam-wd ({$dam-wd.in: <feet>}) wide.\""
   ],
   "outputs": [
    {
     "name": "stdout",
     "output_type": "stream",
     "text": [
      "Take the 185m (ab  out 606.96ft) tall Three Gorges Dam. Spanning the Yangtze River in Hubei province, Central China, it is the largest dam in the world and is over 2300m (7545.93ft) wide.\n"
     ]
    }
   ],
   "execution_count": 3
  },
  {
   "metadata": {
    "ExecuteTime": {
     "end_time": "2024-12-19T17:03:30.146976Z",
     "start_time": "2024-12-19T17:03:27.712149Z"
    }
   },
   "cell_type": "code",
   "source": [
    "#{}\n",
    "my $lake-vol = ♎️'40_000_000_000 m^3';\n",
    "\n",
    "my $water-density = ♎️'1000 kg/m^3';\n",
    "my $lake-mass = ($lake-vol * $water-density).in: <gigatonnes>;\n",
    "\n",
    "my $lake-ln = (2 * $lake-vol / ($dam-ht * $dam-wd) ).in: <km>;\n",
    "\n",
    "my $pool-vol =  [*] (50m, 25m, 2m);\n",
    "my $pool-mil = $lake-vol / ($pool-vol * 1000000);\n",
    "\n",
    "say \"The dam can hold $lake-mass of water (its about $lake-ln long) – about $pool-mil million Olympic-sized swimming pools.\""
   ],
   "id": "42dc83441c47c063",
   "outputs": [
    {
     "name": "stdout",
     "output_type": "stream",
     "text": [
      "The dam can hold 40gigatonnes of water (its about 188.01km long) – about 16① million Olympic-sized swimming pools.\n"
     ]
    }
   ],
   "execution_count": 4
  },
  {
   "metadata": {},
   "cell_type": "markdown",
   "source": "## 2. Earth Spin",
   "id": "67ba46b99888f8ea"
  },
  {
   "metadata": {},
   "cell_type": "markdown",
   "source": [
    "The angular momentum `L` of a uniform rigid sphere rotating around its axis is given by:\n",
    "\n",
    "$$L = \\frac{4}{5} \\pi M f r^2$$"
   ],
   "id": "2d7171540fd27325"
  },
  {
   "metadata": {
    "ExecuteTime": {
     "end_time": "2024-12-19T17:03:30.233858Z",
     "start_time": "2024-12-19T17:03:30.180057Z"
    }
   },
   "cell_type": "code",
   "source": [
    "#{}\n",
    "say \"The Earth's rotation around its axis has an angular momentum of about 7.05 × 1033 kg⋅m2⋅s−1.\""
   ],
   "id": "f9f848bfc9c7e447",
   "outputs": [
    {
     "name": "stdout",
     "output_type": "stream",
     "text": [
      "The Earth's rotation around its axis has an angular momentum of about 7.05 × 1033 kg⋅m2⋅s−1.\n"
     ]
    }
   ],
   "execution_count": 5
  },
  {
   "metadata": {
    "ExecuteTime": {
     "end_time": "2024-12-19T17:03:32.948451Z",
     "start_time": "2024-12-19T17:03:30.254005Z"
    }
   },
   "cell_type": "code",
   "source": [
    "#{}\n",
    "my \\M = 5.972e24kg;\n",
    "my \\r = 6_371km;\n",
    "my \\f = 1 / ♎️'1 day';\n",
    "\n",
    "my \\L = <4/5> * π * M * f * r**2;\n",
    "\n",
    "say \"The Earths rotation around its axis has an angular momentum of about {L}.\""
   ],
   "id": "7a04dd7e21c0a5a0",
   "outputs": [
    {
     "name": "stdout",
     "output_type": "stream",
     "text": [
      "The Earths rotation around its axis has an angular momentum of about 7051169042234387042953757211806924.8kg m^2/s.\n"
     ]
    }
   ],
   "execution_count": 6
  },
  {
   "metadata": {
    "ExecuteTime": {
     "end_time": "2024-12-19T17:03:33.366527Z",
     "start_time": "2024-12-19T17:03:32.967703Z"
    }
   },
   "cell_type": "code",
   "source": [
    "#{}\n",
    "my $L-check = ♎️'7.05e33 kg.m2.s-1';\n",
    "\n",
    "say \"The Earths rotation around its axis has an angular momentum of about $L-check. So our calculation is correct ±{(10 * ( (+L / +$L-check) -1 )).round( 0.001)}%\";"
   ],
   "id": "f59d7814c80e3608",
   "outputs": [
    {
     "name": "stdout",
     "output_type": "stream",
     "text": [
      "The Earths rotation around its axis has an angular momentum of about 7050000000000000129355448008698757.12kg.m2.s-1. So our calculation is correct ±0.002%\n"
     ]
    }
   ],
   "execution_count": 7
  },
  {
   "metadata": {},
   "cell_type": "markdown",
   "source": "## 3. Lake Moment",
   "id": "38931b973e0ee0b4"
  },
  {
   "metadata": {},
   "cell_type": "markdown",
   "source": "Back in 2005, NASA scientist Dr Benjamin Fong Chao calculated that when that amount of mass is concentrated into one spot it is enough to affect the Earth’s rotation. That claim has recently been doing the rounds again on social media, but how much of an effect does the dam really have and why?",
   "id": "e299e4708ff8adde"
  },
  {
   "metadata": {
    "ExecuteTime": {
     "end_time": "2024-12-19T17:03:33.689285Z",
     "start_time": "2024-12-19T17:03:33.380063Z"
    }
   },
   "cell_type": "code",
   "source": [
    "my $lake-altitude = 185m;\n",
    "\n",
    "say \"The Three Gorges Dam sits $lake-altitude above sea level at its highest point. And when the dam is full, both the local mass and the distance of that mass from our rotational line have increased. In other words, the moment of inertia goes up, creating a (very very small) resistance to Earth's spin.\""
   ],
   "id": "b1fd0d5bfc5bddc2",
   "outputs": [
    {
     "name": "stdout",
     "output_type": "stream",
     "text": [
      "The Three Gorges Dam sits 185m above sea level at its highest point. And when the dam is full, both the local mass and the distance of that mass from our rotational line have increased. In other words, the moment of inertia goes up, creating a (very very small) resistance to Earth's spin.\n"
     ]
    }
   ],
   "execution_count": 8
  },
  {
   "metadata": {},
   "cell_type": "markdown",
   "source": [
    "To see how this slows the Earth down, next we need to talk about angular momentum. It's basically the total 'quantity' of spinning an object has, which depends on both the speed of rotation and how the object's mass is spread out.\n",
    "\n",
    "A key point about angular momentum is that it’s always conserved. This means the total angular momentum in a system stays the same and can't change."
   ],
   "id": "acee3f953aa13707"
  },
  {
   "metadata": {},
   "cell_type": "markdown",
   "source": [
    "The trivial case of the angular momentum `L` of a body in an orbit is given by\n",
    "\n",
    "$${\\displaystyle L=2\\pi Mfr^{2}}$$\n",
    "\n",
    "where `M` is the mass of the orbiting object, `f` is the orbit's frequency and `r` is the orbit's radius."
   ],
   "id": "fd49e483e200b584"
  },
  {
   "metadata": {
    "ExecuteTime": {
     "end_time": "2024-12-19T17:04:26.379854Z",
     "start_time": "2024-12-19T17:04:26.000151Z"
    }
   },
   "cell_type": "code",
   "source": [
    "#{}\n",
    "my \\L-diff = 2 * π * $lake-mass * f * (r + $lake-altitude)**2;\n",
    "\n",
    "say \"The elevated lake has mass {$lake-mass}, which increases the angular momentum by {L-diff} compared to that mass of water in the ocean (to a first approximation).\";"
   ],
   "id": "2dd12e47db1f330",
   "outputs": [
    {
     "name": "stdout",
     "output_type": "stream",
     "text": [
      "The elevated lake has mass 40gigatonnes, which increases the angular momentum by 118077336728780178865520.64kg m^2/s compared to that mass of water in the ocean (to a first approximation).\n"
     ]
    }
   ],
   "execution_count": 14
  },
  {
   "metadata": {
    "ExecuteTime": {
     "end_time": "2024-12-19T17:03:34.777993Z",
     "start_time": "2024-12-19T17:03:34.159517Z"
    }
   },
   "cell_type": "code",
   "source": [
    "my $ratio = +(L-diff / L);\n",
    "my $microsec = ( ♎️'1 day' * $ratio ).in: <microseconds>;\n",
    "\n",
    "say \"Since the total angular momentum of an independent body cannot change, the lifting of the lake acts to reduce the length of Earth's day proportionally. In this case by around {$microsec}.\"\n"
   ],
   "id": "399d8df9133dc4b8",
   "outputs": [
    {
     "name": "stdout",
     "output_type": "stream",
     "text": [
      "Since the total angular momentum of an independent body cannot change, the lifting of the lake acts to reduce the length of Earth's day proportionally. In this case by around 1.45μs.\n"
     ]
    }
   ],
   "execution_count": 10
  },
  {
   "metadata": {},
   "cell_type": "markdown",
   "source": "Ice skaters are often used as a way to explain how this works. With their arms outstretched, they spin relatively slowly. Draw their arms in, however, and they dramatically speed up. This is because their total angular momentum has to stay the same.",
   "id": "b99499591d62c596"
  },
  {
   "metadata": {},
   "cell_type": "markdown",
   "source": "~librasteve",
   "id": "7fc3d6e3973621d6"
  }
 ],
 "metadata": {
  "kernelspec": {
   "display_name": "RakuChatbook",
   "language": "raku",
   "name": "raku"
  },
  "language_info": {
   "file_extension": ".raku",
   "mimetype": "text/plain",
   "name": "raku",
   "version": "6.d"
  }
 },
 "nbformat": 4,
 "nbformat_minor": 5
}
