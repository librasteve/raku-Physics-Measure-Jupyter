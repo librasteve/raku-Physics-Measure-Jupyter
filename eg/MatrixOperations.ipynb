{
 "cells": [
  {
   "metadata": {},
   "cell_type": "markdown",
   "source": [
    "## Dot Product\n",
    "\n",
    "Matrices can contain Measure objects.\n",
    "\n",
    "`[Z] @m == transpose`"
   ],
   "id": "66e48a81b7961ada"
  },
  {
   "metadata": {
    "collapsed": true,
    "ExecuteTime": {
     "end_time": "2024-12-11T21:27:03.099949Z",
     "start_time": "2024-12-11T21:26:59.406344Z"
    }
   },
   "cell_type": "code",
   "source": [
    "use Physics::Measure :ALL;    #need this here to entail the operator overloads\n",
    "\n",
    "#| dot-product\n",
    "sub infix:<·>(@x1, @x2) {\n",
    "    die \"Incompatible dimensions.\"\n",
    "        unless @x1 == @x2[0] && @x1[0] == @x2;\n",
    "\n",
    "    [for ^@x1 -> $m {\n",
    "        [for ^@x1 -> $n {\n",
    "           [+] @x1[$m;*] >>*<< @x2[*;$n]\n",
    "        }]\n",
    "    }]\n",
    "}\n",
    "\n",
    "my @m = [[1m,2m],[3m,4m]];\n",
    "\n",
    "say @m · [Z] @m;   #[[5m^2 11m^2] [11m^2 25m^2]]"
   ],
   "id": "initial_id",
   "outputs": [
    {
     "name": "stdout",
     "output_type": "stream",
     "text": [
      "[[5m^2 11m^2] [11m^2 25m^2]]\n"
     ]
    }
   ],
   "execution_count": 5
  },
  {
   "metadata": {},
   "cell_type": "code",
   "outputs": [],
   "execution_count": null,
   "source": "",
   "id": "a7237e38c7c2b524"
  }
 ],
 "metadata": {
  "kernelspec": {
   "display_name": "RakuChatbook",
   "language": "raku",
   "name": "raku"
  },
  "language_info": {
   "codemirror_mode": {
    "name": "ipython",
    "version": 2
   },
   "file_extension": ".py",
   "mimetype": "text/x-python",
   "name": "python",
   "nbconvert_exporter": "python",
   "pygments_lexer": "ipython2",
   "version": "2.7.6"
  }
 },
 "nbformat": 4,
 "nbformat_minor": 5
}
