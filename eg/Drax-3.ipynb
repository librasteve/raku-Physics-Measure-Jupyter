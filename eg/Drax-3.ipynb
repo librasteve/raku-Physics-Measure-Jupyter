{
 "cells": [
  {
   "cell_type": "code",
   "execution_count": 1,
   "id": "d6b35b6d-a461-4ad2-b563-cd9758bcc0f2",
   "metadata": {},
   "outputs": [],
   "source": [
    "use Physics::Unit;\n",
    "use Physics::Measure :ALL;"
   ]
  },
  {
   "cell_type": "code",
   "execution_count": 2,
   "id": "a2c69569-9770-4456-baa5-64231708d977",
   "metadata": {},
   "outputs": [
    {
     "name": "stdout",
     "output_type": "stream",
     "text": [
      "ok\n"
     ]
    }
   ],
   "source": [
    "# For the next bit, we need to make some custom units...\n",
    "Unit.new(defn => 'J / kg', names => ['J/kg']);\n",
    "Unit.new(defn => '1_000_000 J / kg', names => ['MJ/kg']);\n",
    "\n",
    "# And a new custom measurement type...\n",
    "class SpecificEnergy is Measure {\n",
    "    has $.units where *.name eq ('MJ/kg', 'J/kg').any;\n",
    "}\n",
    "\n",
    "# And then to link them with Get Measurement Unit...\n",
    "#GetMeaUnit('J/kg').NewType('SpecificEnergy');\n",
    "\n",
    "say \"ok\";"
   ]
  },
  {
   "cell_type": "code",
   "execution_count": 6,
   "id": "65ecf90e",
   "metadata": {},
   "outputs": [
    {
     "name": "stderr",
     "output_type": "stream",
     "text": [
      "Unit $seus =   Unit.new( factor => 1, offset => 0, defn => 'J / kg', type => Dose,\n",
      "  dims => [2,0,-2,0,0,0,0,0], dmix => (\"J\"=>1,\"kg\"=>-1).MixHash, names => ['J/kg'] );\n",
      "\n"
     ]
    }
   ],
   "source": [
    "dd my $seus = GetUnit('J/kg');"
   ]
  },
  {
   "cell_type": "code",
   "execution_count": 9,
   "id": "f5b3aac0",
   "metadata": {},
   "outputs": [
    {
     "name": "stderr",
     "output_type": "stream",
     "text": [
      "Unit $seusm =   Unit.new( factor => 1000000, offset => 0, defn => '1_000_000 J / kg', type => Dose,\n",
      "  dims => [2,0,-2,0,0,0,0,0], dmix => (\"kg\"=>-1,\"J\"=>1).MixHash, names => ['MJ/kg'] );\n",
      "\n"
     ]
    }
   ],
   "source": [
    "dd my $seusm = GetUnit('MJ/kg');"
   ]
  },
  {
   "cell_type": "code",
   "execution_count": 12,
   "id": "e4a1caee",
   "metadata": {},
   "outputs": [
    {
     "name": "stdout",
     "output_type": "stream",
     "text": [
      "Woody biomass has an average heating density of 19.8MJ/kg.\n"
     ]
    },
    {
     "name": "stderr",
     "output_type": "stream",
     "text": [
      "(  Unit.new( factor => 1000000, offset => 0, defn => '1_000_000 J / kg', type => Dose,\n",
      "  dims => [2,0,-2,0,0,0,0,0], dmix => (\"kg\"=>-1,\"J\"=>1).MixHash, names => ['MJ/kg'] );\n",
      ",).Seq\n"
     ]
    }
   ],
   "source": [
    "my SpecificEnergy $biomass-se .= new(value => 19.8, units => $seusm);\n",
    "\n",
    "say \"Woody biomass has an average heating density of $biomass-se.\";\n",
    "\n",
    "dd $biomass-se.units.flat;"
   ]
  },
  {
   "cell_type": "code",
   "execution_count": 4,
   "id": "f94a7fca",
   "metadata": {},
   "outputs": [
    {
     "name": "stderr",
     "output_type": "stream",
     "text": [
      "SpecificEnergy $biomass-x = SpecificEnergy.new(units =>   Unit.new( factor => 1, offset => 0, defn => 'J / kg', type => Dose,\n",
      "  dims => [2,0,-2,0,0,0,0,0], dmix => (\"J\"=>1,\"kg\"=>-1).MixHash, names => ['J/kg'] );\n",
      ", value => 19.8, units =>   Unit.new( factor => 1, offset => 0, defn => 'J / kg', type => Dose,\n",
      "  dims => [2,0,-2,0,0,0,0,0], dmix => (\"J\"=>1,\"kg\"=>-1).MixHash, names => ['J/kg'] );\n",
      ", error => Physics::Error::Error)\n"
     ]
    }
   ],
   "source": [
    "my SpecificEnergy $biomass-x .= new(value => 19.8, units => 'J/kg');\n",
    "\n",
    "dd $biomass-x;"
   ]
  },
  {
   "cell_type": "code",
   "execution_count": null,
   "id": "584b6c01",
   "metadata": {},
   "outputs": [],
   "source": [
    "say $biomass-x * 2kg;"
   ]
  },
  {
   "cell_type": "code",
   "execution_count": null,
   "id": "4649f7b6",
   "metadata": {},
   "outputs": [],
   "source": [
    "say ($biomass-se / $biomass-x);"
   ]
  },
  {
   "cell_type": "code",
   "execution_count": null,
   "id": "7b9a0827",
   "metadata": {},
   "outputs": [],
   "source": []
  },
  {
   "cell_type": "code",
   "execution_count": null,
   "id": "545f6ced",
   "metadata": {},
   "outputs": [],
   "source": [
    "say $biomass-se.in('J/kg');"
   ]
  },
  {
   "cell_type": "code",
   "execution_count": null,
   "id": "5caee839-1612-403d-b32a-83cfe8822230",
   "metadata": {},
   "outputs": [],
   "source": [
    "my $zz-load = ♎️'63907 tonnes';\n",
    "\n",
    "say \"The Zheng Zhi bulk carrier vessel transported $zz-load of Drax’s sustainable biomass from the \n",
    "US port of Baton Rouge in Louisiana.\""
   ]
  },
  {
   "cell_type": "code",
   "execution_count": null,
   "id": "810f8351-6256-447b-b441-4a2bf56cf13b",
   "metadata": {},
   "outputs": [],
   "source": [
    "my $distance = 8000km;\n",
    "my $speed = ♎️'24 knots';\n",
    "my $time = $distance/$speed;\n",
    "\n",
    "say \"The Zheng Zhi's $distance round trip from Baton Rouge to Yorkshire is covered at a speed of $speed \n",
    "which takes about {$time.in('days')}.\";"
   ]
  },
  {
   "cell_type": "code",
   "execution_count": null,
   "id": "2768031e",
   "metadata": {},
   "outputs": [],
   "source": [
    "Unit.new(defn => 'm^3 / s', names => ['m^3ps']);\n",
    "Unit.new(defn => 'us-gallons per day', names => ['gpd']);\n",
    "\n",
    "class ConsumptionRate is Measure {\n",
    "    has $.units where *.name eq <m^3ps gpd>.any;\n",
    "}\n",
    "\n",
    "GetMeaUnit('m^3ps').NewType('ConsumptionRate');\n",
    "\n",
    "say \"ok\""
   ]
  },
  {
   "cell_type": "code",
   "execution_count": null,
   "id": "9cc65518",
   "metadata": {},
   "outputs": [],
   "source": [
    "Unit.new(defn => 'us-gallons per day', names => ['gpd']);\n",
    "my $fuel-day = ♎️'63_000 gpd';\n",
    "\n",
    "say $fuel-day.in('m^3ps');"
   ]
  },
  {
   "cell_type": "code",
   "execution_count": null,
   "id": "d264d634",
   "metadata": {},
   "outputs": [],
   "source": [
    "my $sucker = ♎️'24 m^3ps';\n",
    "\n",
    "say $sucker;\n",
    "say $sucker.units;\n",
    "say $sucker.units.type;"
   ]
  },
  {
   "cell_type": "code",
   "execution_count": null,
   "id": "201f56bb",
   "metadata": {},
   "outputs": [],
   "source": [
    "Unit.new(defn => 'us-gallons per day', names => ['gpd']);\n",
    "\n",
    "dd my $fuel-day = ♎️'63_000 gpd';\n",
    "#my $fuel-total = $fuel-day * $time;\n",
    "\n",
    "#say \"A Panamax ship can consume $fuel-day of marine fuel per day at that speed, giving a total of $fuel-total for the round trip.\""
   ]
  },
  {
   "cell_type": "code",
   "execution_count": null,
   "id": "73a46bfa",
   "metadata": {},
   "outputs": [],
   "source": [
    "my $\n",
    "\n",
    "36MJ/litre"
   ]
  },
  {
   "cell_type": "code",
   "execution_count": null,
   "id": "ed7e892c",
   "metadata": {},
   "outputs": [],
   "source": [
    "my $kgps = Unit.new( defn => 'kg / s', names => ['kgps']);\n",
    "#$kgps.type = 'FuelConsumption';\n",
    "\n",
    "say $kgps.type;"
   ]
  },
  {
   "cell_type": "code",
   "execution_count": null,
   "id": "b1a31d6c-f8ea-4845-a6f8-a903ceded337",
   "metadata": {},
   "outputs": [],
   "source": [
    "$mass = 1000kg;\n",
    "my $time = 60s;\n",
    "\n",
    "dd my Consumption $zhengzhi-consumption = $mass / $time;"
   ]
  },
  {
   "cell_type": "code",
   "execution_count": null,
   "id": "596ee8f1-a2ea-4d66-857b-dd25c436b995",
   "metadata": {},
   "outputs": [],
   "source": [
    "my $zhengzhi-round-trip = $zhengzhi-time * $zhengzhi-consumption;\n",
    "say $zhengzhi-round-trip;"
   ]
  },
  {
   "cell_type": "code",
   "execution_count": null,
   "id": "a5b3785d",
   "metadata": {},
   "outputs": [],
   "source": []
  },
  {
   "cell_type": "code",
   "execution_count": null,
   "id": "0efefb70-0e7f-499e-ab0b-f257127b3e26",
   "metadata": {},
   "outputs": [],
   "source": [
    "use Physics::Measure :ALL;\n",
    "\n",
    "#The Zheng Zhi bulk carrier vessel transported 63,907 tonnes of Drax’s sustainable biomass from the US port of Baton Rouge in Louisiana.\n",
    "\n",
    "my $zz-mass = (63907 * 1000)kg;   \n",
    "say $zz-mass.in: 'tonnes';\n",
    "\n",
    "#Woody biomass has an average heating density of 19.8 MJ/kg\n",
    "\n",
    "my $energy = 19.8MJ;\n",
    "my $mass = 1kg;\n",
    "\n",
    "my $energy-per-kg = $energy/$mass;\n",
    "\n",
    "my $zz-energy = $energy-per-kg * $zz-mass;\n",
    "say $zz-energy.norm; \n",
    "\n",
    "my $zz-distance = 8000km;\n",
    "my $zz-speed = ♎️'25 knots'; \n",
    "\n",
    "my $zz-time = $zz-distance / $zz-speed;\n",
    "say $zz-time.in: 'hours';\n",
    "\n",
    "$mass = 1000kg;\n",
    "my $time = 60s;\n",
    "say $time;\n",
    "my $zz-consumption = $mass / $time;\n",
    "say $zz-consumption;\n",
    "\n"
   ]
  }
 ],
 "metadata": {
  "kernelspec": {
   "display_name": "Raku",
   "language": "raku",
   "name": "raku"
  },
  "language_info": {
   "file_extension": ".raku",
   "mimetype": "text/plain",
   "name": "raku",
   "version": "6.d"
  }
 },
 "nbformat": 4,
 "nbformat_minor": 5
}
