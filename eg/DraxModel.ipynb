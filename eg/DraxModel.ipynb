{
 "cells": [
  {
   "cell_type": "markdown",
   "id": "dde28b57",
   "metadata": {},
   "source": [
    "# Drax Transport Model"
   ]
  },
  {
   "cell_type": "markdown",
   "id": "d9a54c86",
   "metadata": {},
   "source": [
    "This raku workbook is intended to help understand the claims made by the Drax power station in the UK\n",
    "\n",
    "Drax is converting from burning coal to sustainable wood pellets. The level to which this is truly contributing to global CO2 reduction is a contraversial topic.\n",
    "\n",
    "More information can be found at https://www.clientearth.org/projects/the-greenwashing-files/drax/"
   ]
  },
  {
   "cell_type": "markdown",
   "id": "ff48d535",
   "metadata": {},
   "source": [
    "![image](https://files.clientearth.org/cache/d/6/d/5/1/9/d6d519cd8e61a92d6264c1a3b5a967df23dc9cb9.png)"
   ]
  },
  {
   "cell_type": "markdown",
   "id": "db35f1fe",
   "metadata": {},
   "source": [
    "## 0. Some Setup"
   ]
  },
  {
   "cell_type": "code",
   "execution_count": 1,
   "id": "d6b35b6d-a461-4ad2-b563-cd9758bcc0f2",
   "metadata": {},
   "outputs": [
    {
     "data": {
      "text/plain": [
       "0.01"
      ]
     },
     "execution_count": 1,
     "metadata": {},
     "output_type": "execute_result"
    }
   ],
   "source": [
    "use Physics::Unit;\n",
    "use Physics::Measure :ALL;\n",
    "\n",
    "$Physics::Measure::round-val = 0.01;"
   ]
  },
  {
   "cell_type": "code",
   "execution_count": 2,
   "id": "f1e8e84e",
   "metadata": {},
   "outputs": [
    {
     "name": "stdout",
     "output_type": "stream",
     "text": [
      "ok\n"
     ]
    }
   ],
   "source": [
    "#First, we will need to define some new units...\n",
    "\n",
    "#| define the Units:\n",
    "Unit.new(defn => 'm^3 / s', names => ['m^3/s']);\n",
    "Unit.new(defn => 'us-gallons per day', names => ['gallons per day']);\n",
    "\n",
    "#| declare a new Measure type:\n",
    "class ConsumptionRate is Measure {\n",
    "    has $.units where *.name eq <m^3/s gpd>.any;\n",
    "}\n",
    "\n",
    "#| link the base type to the units\n",
    "GetMeaUnit('m^3/s').NewType('ConsumptionRate');\n",
    "\n",
    "say \"ok\""
   ]
  },
  {
   "cell_type": "markdown",
   "id": "fdcb4b21",
   "metadata": {},
   "source": [
    "## 1. A Load of Pellets"
   ]
  },
  {
   "cell_type": "code",
   "execution_count": 3,
   "id": "5caee839-1612-403d-b32a-83cfe8822230",
   "metadata": {},
   "outputs": [
    {
     "name": "stdout",
     "output_type": "stream",
     "text": [
      "The Zheng Zhi bulk carrier vessel transported 63907metric-ton of Drax’s sustainable biomass from the \n",
      "US port of Baton Rouge in Louisiana.\n"
     ]
    }
   ],
   "source": [
    "my $zz-load = ♎️'63907 tonnes';\n",
    "\n",
    "say \"The Zheng Zhi bulk carrier vessel transported $zz-load of Drax’s sustainable biomass from the \n",
    "US port of Baton Rouge in Louisiana.\""
   ]
  },
  {
   "cell_type": "code",
   "execution_count": 4,
   "id": "237f0dc0",
   "metadata": {},
   "outputs": [
    {
     "name": "stdout",
     "output_type": "stream",
     "text": [
      "Woody biomass has an average heating density of 19.8MJ/kg.\n"
     ]
    }
   ],
   "source": [
    "my $energy-per-kg = ♎️'19.8 MJ/kg';\n",
    "\n",
    "say \"Woody biomass has an average heating density of $energy-per-kg.\""
   ]
  },
  {
   "cell_type": "code",
   "execution_count": 5,
   "id": "b3c94779",
   "metadata": {},
   "outputs": [
    {
     "name": "stdout",
     "output_type": "stream",
     "text": [
      "Each carrier load delivers 1.27PJ.\n"
     ]
    }
   ],
   "source": [
    "my $zz-energy = ( $energy-per-kg * $zz-load ).norm;\n",
    "\n",
    "say \"Each carrier load delivers $zz-energy.\""
   ]
  },
  {
   "cell_type": "markdown",
   "id": "7fcd91e3",
   "metadata": {},
   "source": [
    "## 2. Transport Efficiency"
   ]
  },
  {
   "cell_type": "code",
   "execution_count": 16,
   "id": "810f8351-6256-447b-b441-4a2bf56cf13b",
   "metadata": {},
   "outputs": [
    {
     "name": "stdout",
     "output_type": "stream",
     "text": [
      "The Zheng Zhi's 8000km round trip from Baton Rouge to Yorkshire is covered at a speed of 24knot \n",
      "which takes about 7.5day.\n"
     ]
    }
   ],
   "source": [
    "my $trip-dist = 8000km;\n",
    "my $trip-speed = ♎️'24 knots';\n",
    "my $trip-time = ( $trip-dist / $trip-speed ).in: <days>;\n",
    "\n",
    "say \"The Zheng Zhi's $trip-dist round trip from Baton Rouge to Yorkshire is covered at a speed of $trip-speed \n",
    "which takes about $trip-time.\";"
   ]
  },
  {
   "cell_type": "code",
   "execution_count": 8,
   "id": "79a8f9ba",
   "metadata": {},
   "outputs": [
    {
     "name": "stdout",
     "output_type": "stream",
     "text": [
      "A Panamax ship can consume 63000gallons per day of marine fuel at that speed, giving a total of 1788.46m^3 \n",
      "for the round trip.\n"
     ]
    }
   ],
   "source": [
    "my $fuel-day = ♎️'63_000 gallons per day';\n",
    "my $fuel-total = $fuel-day * $trip-time;\n",
    "\n",
    "say \"A Panamax ship can consume $fuel-day of marine fuel at that speed, giving a total of $fuel-total \n",
    "for the round trip.\""
   ]
  },
  {
   "cell_type": "code",
   "execution_count": 11,
   "id": "3c6e20ff",
   "metadata": {},
   "outputs": [
    {
     "name": "stdout",
     "output_type": "stream",
     "text": [
      "The density of marine oil is 860kg/m³, so the total mass burnt per trip is 1538.08metric-ton.\n"
     ]
    }
   ],
   "source": [
    "my $fuel-density = ♎️'860 kg/m³';\n",
    "my $fuel-mass = ($fuel-total * $fuel-density).in: <tonnes>;\n",
    "\n",
    "say \"The density of marine oil is $fuel-density, so the total mass burnt per trip is $fuel-mass.\""
   ]
  },
  {
   "cell_type": "code",
   "execution_count": 13,
   "id": "21397455",
   "metadata": {},
   "outputs": [
    {
     "name": "stdout",
     "output_type": "stream",
     "text": [
      "The approximate fraction of fuel to load is 2.41%.\n"
     ]
    }
   ],
   "source": [
    "my $fuel-fraction = ( $fuel-mass / $zz-load ).in: <%>;\n",
    "\n",
    "say \"The approximate fraction of fuel to load is $fuel-fraction.\""
   ]
  },
  {
   "cell_type": "markdown",
   "id": "7273555b",
   "metadata": {},
   "source": [
    "## 3. Annual Total"
   ]
  },
  {
   "cell_type": "markdown",
   "id": "5b97bd29",
   "metadata": {},
   "source": [
    "In 2020 Drax’s reported annual emissions from burning biomass totaled 13.2 million tonnes."
   ]
  },
  {
   "cell_type": "code",
   "execution_count": 14,
   "id": "bb673374",
   "metadata": {},
   "outputs": [
    {
     "name": "stdout",
     "output_type": "stream",
     "text": [
      "In 2020 Drax’s reported annual emissions from burning biomass totaled 13.2million tonnes.\n"
     ]
    }
   ],
   "source": [
    "my $annual-mass = ♎️'13.2 million tonnes';\n",
    "\n",
    "say \"In 2020 Drax’s reported annual emissions from burning biomass totaled $annual-mass.\""
   ]
  },
  {
   "cell_type": "code",
   "execution_count": 31,
   "id": "0c77118d",
   "metadata": {},
   "outputs": [
    {
     "name": "stdout",
     "output_type": "stream",
     "text": [
      "This required 206.55① round trips of a Panamax class bulk carrier.\n"
     ]
    }
   ],
   "source": [
    "my $annual-trips = $annual-mass / $zz-load;\n",
    "\n",
    "say \"This required $annual-trips round trips of a Panamax class bulk carrier.\""
   ]
  },
  {
   "cell_type": "code",
   "execution_count": 30,
   "id": "0b067a13",
   "metadata": {},
   "outputs": [
    {
     "name": "stdout",
     "output_type": "stream",
     "text": [
      "Since each round trip takes 7.5day, then that means each vessel can do 48.7① per year.\n"
     ]
    }
   ],
   "source": [
    "my $zz-annual-trips = ♎️'1 year' / $trip-time;\n",
    "\n",
    "say \"Since each round trip takes $trip-time, then that means each vessel can do $zz-annual-trips per year.\""
   ]
  },
  {
   "cell_type": "code",
   "execution_count": 38,
   "id": "08f005b8",
   "metadata": {},
   "outputs": [
    {
     "name": "stdout",
     "output_type": "stream",
     "text": [
      "And that requires 5 vessels continually plying the ocean.\n"
     ]
    }
   ],
   "source": [
    "say \"And that requires {(+$annual-trips / +$zz-annual-trips).ceiling} vessels continually plying the ocean.\""
   ]
  },
  {
   "cell_type": "code",
   "execution_count": null,
   "id": "1b7d663c",
   "metadata": {},
   "outputs": [],
   "source": []
  }
 ],
 "metadata": {
  "kernelspec": {
   "display_name": "Raku",
   "language": "raku",
   "name": "raku"
  },
  "language_info": {
   "file_extension": ".raku",
   "mimetype": "text/plain",
   "name": "raku",
   "version": "6.d"
  }
 },
 "nbformat": 4,
 "nbformat_minor": 5
}
