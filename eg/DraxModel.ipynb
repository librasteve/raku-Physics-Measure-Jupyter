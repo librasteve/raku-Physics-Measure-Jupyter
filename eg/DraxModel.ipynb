{
 "cells": [
  {
   "cell_type": "markdown",
   "id": "dde28b57",
   "metadata": {},
   "source": [
    "# Drax Transport Model"
   ]
  },
  {
   "cell_type": "markdown",
   "id": "d9a54c86",
   "metadata": {},
   "source": [
    "This raku workbook is intended to help understand the claims made by the Drax power station in the UK\n",
    "\n",
    "Drax is converting from burning coal to sustainable wood pellets. The level to which this is truly contributing to global CO2 reduction is a contraversial topic.\n",
    "\n",
    "More information can be found at https://www.clientearth.org/projects/the-greenwashing-files/drax/"
   ]
  },
  {
   "cell_type": "markdown",
   "id": "ff48d535",
   "metadata": {},
   "source": [
    "![image](https://files.clientearth.org/cache/d/6/d/5/1/9/d6d519cd8e61a92d6264c1a3b5a967df23dc9cb9.png)"
   ]
  },
  {
   "cell_type": "markdown",
   "id": "db35f1fe",
   "metadata": {},
   "source": [
    "## 0. Some Setup"
   ]
  },
  {
   "cell_type": "code",
   "id": "d6b35b6d-a461-4ad2-b563-cd9758bcc0f2",
   "metadata": {
    "ExecuteTime": {
     "end_time": "2024-11-07T17:30:05.632908Z",
     "start_time": "2024-11-07T17:30:03.594356Z"
    }
   },
   "source": [
    "#use Physics::Unit;\n",
    "use Physics::Measure :ALL;\n",
    "\n",
    "$Physics::Measure::round-val = 0.01;"
   ],
   "outputs": [
    {
     "data": {
      "text/plain": [
       "0.01"
      ]
     },
     "execution_count": 3,
     "metadata": {},
     "output_type": "execute_result"
    }
   ],
   "execution_count": 3
  },
  {
   "cell_type": "code",
   "id": "f1e8e84e",
   "metadata": {
    "ExecuteTime": {
     "end_time": "2024-11-07T17:30:06.889117Z",
     "start_time": "2024-11-07T17:30:06.710814Z"
    }
   },
   "source": [
    "#First, we will need to define some new units...\n",
    "\n",
    "{\n",
    "    use Physics::Unit;\n",
    "\n",
    "    Unit.new(defn => 'us-gallons per day', names => ['gallons per day']);\n",
    "    Measure.unit-find('gallons per day').type-bind('FuelConsumption');\n",
    "}\n",
    "\n",
    "say \"ok\""
   ],
   "outputs": [
    {
     "name": "stdout",
     "output_type": "stream",
     "text": [
      "ok\n"
     ]
    }
   ],
   "execution_count": 4
  },
  {
   "cell_type": "markdown",
   "id": "fdcb4b21",
   "metadata": {},
   "source": [
    "## 1. A Load of Pellets"
   ]
  },
  {
   "cell_type": "code",
   "id": "5caee839-1612-403d-b32a-83cfe8822230",
   "metadata": {
    "ExecuteTime": {
     "end_time": "2024-11-07T17:30:08.834609Z",
     "start_time": "2024-11-07T17:30:08.378005Z"
    }
   },
   "source": [
    "my $zz-load = ♎️'63907 tonnes';\n",
    "\n",
    "say \"The Zheng Zhi bulk carrier vessel transported $zz-load of Drax’s sustainable biomass from the \n",
    "US port of Baton Rouge in Louisiana.\""
   ],
   "outputs": [
    {
     "name": "stdout",
     "output_type": "stream",
     "text": [
      "The Zheng Zhi bulk carrier vessel transported 63907metric-ton of Drax’s sustainable biomass from the \n",
      "US port of Baton Rouge in Louisiana.\n"
     ]
    }
   ],
   "execution_count": 5
  },
  {
   "cell_type": "code",
   "id": "237f0dc0",
   "metadata": {
    "ExecuteTime": {
     "end_time": "2024-11-07T17:30:12.670439Z",
     "start_time": "2024-11-07T17:30:11.812393Z"
    }
   },
   "source": [
    "my $energy-per-kg = ♎️'19.8 MJ/kg';\n",
    "\n",
    "say \"Woody biomass has an average heating density of $energy-per-kg.\""
   ],
   "outputs": [
    {
     "name": "stdout",
     "output_type": "stream",
     "text": [
      "Woody biomass has an average heating density of 19.8MJ/kg.\n"
     ]
    }
   ],
   "execution_count": 6
  },
  {
   "cell_type": "code",
   "id": "b3c94779",
   "metadata": {
    "ExecuteTime": {
     "end_time": "2024-11-07T17:30:16.208558Z",
     "start_time": "2024-11-07T17:30:14.256502Z"
    }
   },
   "source": [
    "my $zz-energy = ( $energy-per-kg * $zz-load ).norm;\n",
    "\n",
    "say \"Each carrier load delivers $zz-energy.\""
   ],
   "outputs": [
    {
     "name": "stdout",
     "output_type": "stream",
     "text": [
      "Each carrier load delivers 1.27PJ.\n"
     ]
    }
   ],
   "execution_count": 7
  },
  {
   "cell_type": "markdown",
   "id": "7fcd91e3",
   "metadata": {},
   "source": "## 2. Transport Efficiency"
  },
  {
   "metadata": {
    "ExecuteTime": {
     "end_time": "2024-11-07T17:30:29.249801Z",
     "start_time": "2024-11-07T17:30:27.109761Z"
    }
   },
   "cell_type": "code",
   "source": [
    "my $trip-dist = 8000km;\n",
    "my $trip-speed = ♎️'24 knots';\n",
    "my $trip-time = ( $trip-dist / $trip-speed ).in: <days>;\n",
    "\n",
    "say \"The Zheng Zhi's $trip-dist round trip from Baton Rouge to Yorkshire is covered at a speed of $trip-speed \n",
    "which takes about $trip-time.\";"
   ],
   "id": "810f8351-6256-447b-b441-4a2bf56cf13b",
   "outputs": [
    {
     "name": "stdout",
     "output_type": "stream",
     "text": [
      "The Zheng Zhi's 8000km round trip from Baton Rouge to Yorkshire is covered at a speed of 24knot \n",
      "which takes about 7.5day.\n"
     ]
    }
   ],
   "execution_count": 8
  },
  {
   "cell_type": "code",
   "id": "79a8f9ba",
   "metadata": {
    "ExecuteTime": {
     "end_time": "2024-11-07T17:30:31.969233Z",
     "start_time": "2024-11-07T17:30:29.851076Z"
    }
   },
   "source": [
    "my $fuel-day = ♎️'63_000 gallons per day';\n",
    "my $fuel-total = $fuel-day * $trip-time;\n",
    "\n",
    "say \"A Panamax ship can consume $fuel-day of marine fuel at that speed, giving a total of $fuel-total \n",
    "for the round trip.\""
   ],
   "outputs": [
    {
     "name": "stdout",
     "output_type": "stream",
     "text": [
      "A Panamax ship can consume 63000gallons per day of marine fuel at that speed, giving a total of 2147.86m^3 \n",
      "for the round trip.\n"
     ]
    }
   ],
   "execution_count": 9
  },
  {
   "cell_type": "code",
   "id": "3c6e20ff",
   "metadata": {
    "ExecuteTime": {
     "end_time": "2024-11-07T17:30:37.962341Z",
     "start_time": "2024-11-07T17:30:36.814491Z"
    }
   },
   "source": [
    "my $fuel-density = ♎️'860 kg/m³';\n",
    "my $fuel-mass = ($fuel-total * $fuel-density).in: <tonnes>;\n",
    "\n",
    "say \"The density of marine oil is $fuel-density, so the total mass burnt per trip is $fuel-mass.\""
   ],
   "outputs": [
    {
     "name": "stdout",
     "output_type": "stream",
     "text": [
      "The density of marine oil is 860kg/m³, so the total mass burnt per trip is 1847.16metric-ton.\n"
     ]
    }
   ],
   "execution_count": 10
  },
  {
   "cell_type": "code",
   "id": "21397455",
   "metadata": {
    "ExecuteTime": {
     "end_time": "2024-11-07T17:30:40.323051Z",
     "start_time": "2024-11-07T17:30:40.188868Z"
    }
   },
   "source": [
    "my $fuel-fraction = ( $fuel-mass / $zz-load ).in: <%>;\n",
    "\n",
    "say \"The approximate fraction of fuel to load is $fuel-fraction.\""
   ],
   "outputs": [
    {
     "name": "stdout",
     "output_type": "stream",
     "text": [
      "The approximate fraction of fuel to load is 2.89%.\n"
     ]
    }
   ],
   "execution_count": 11
  },
  {
   "cell_type": "markdown",
   "id": "7273555b",
   "metadata": {},
   "source": [
    "## 3. Annual Total"
   ]
  },
  {
   "cell_type": "markdown",
   "id": "5b97bd29",
   "metadata": {},
   "source": [
    "In 2020 Drax’s reported annual emissions from burning biomass totaled 13.2 million tonnes."
   ]
  },
  {
   "cell_type": "code",
   "id": "bb673374",
   "metadata": {},
   "source": [
    "my $annual-mass = ♎️'13.2 million tonnes';\n",
    "\n",
    "say \"In 2020 Drax’s reported annual emissions from burning biomass totaled $annual-mass.\""
   ],
   "outputs": [],
   "execution_count": null
  },
  {
   "cell_type": "code",
   "id": "0c77118d",
   "metadata": {},
   "source": [
    "my $annual-trips = $annual-mass / $zz-load;\n",
    "\n",
    "say \"This required $annual-trips round trips of a Panamax class bulk carrier.\""
   ],
   "outputs": [],
   "execution_count": null
  },
  {
   "cell_type": "code",
   "id": "0b067a13",
   "metadata": {},
   "source": [
    "my $zz-annual-trips = ♎️'1 year' / $trip-time;\n",
    "\n",
    "say \"Since each round trip takes $trip-time, then that means each vessel can do $zz-annual-trips per year.\""
   ],
   "outputs": [],
   "execution_count": null
  },
  {
   "cell_type": "code",
   "id": "08f005b8",
   "metadata": {},
   "source": [
    "say \"And that requires {(+$annual-trips / +$zz-annual-trips).ceiling} vessels continually plying the ocean.\""
   ],
   "outputs": [],
   "execution_count": null
  },
  {
   "cell_type": "code",
   "id": "1b7d663c",
   "metadata": {},
   "source": [],
   "outputs": [],
   "execution_count": null
  }
 ],
 "metadata": {
  "kernelspec": {
   "display_name": "RakuChatbook",
   "language": "raku",
   "name": "raku"
  },
  "language_info": {
   "file_extension": ".raku",
   "mimetype": "text/plain",
   "name": "raku",
   "version": "6.d"
  }
 },
 "nbformat": 4,
 "nbformat_minor": 5
}
