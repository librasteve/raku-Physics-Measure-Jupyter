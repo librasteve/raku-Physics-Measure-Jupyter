{
 "cells": [
  {
   "cell_type": "code",
   "execution_count": 1,
   "id": "4207d553",
   "metadata": {},
   "outputs": [],
   "source": [
    "use Physics::Unit;\n",
    "use Physics::Measure :ALL;"
   ]
  },
  {
   "cell_type": "code",
   "execution_count": 26,
   "id": "3621591d",
   "metadata": {
    "scrolled": true
   },
   "outputs": [
    {
     "data": {
      "text/plain": [
       "1week"
      ]
     },
     "execution_count": 26,
     "metadata": {},
     "output_type": "execute_result"
    }
   ],
   "source": [
    "my $w= ♎️'1 week';"
   ]
  },
  {
   "cell_type": "code",
   "execution_count": 20,
   "id": "69e8fcf7",
   "metadata": {},
   "outputs": [
    {
     "data": {
      "text/plain": [
       "2023-08-20"
      ]
     },
     "execution_count": 20,
     "metadata": {},
     "output_type": "execute_result"
    }
   ],
   "source": [
    "my $n = now.Date;"
   ]
  },
  {
   "cell_type": "code",
   "execution_count": 4,
   "id": "807329c3",
   "metadata": {},
   "outputs": [
    {
     "data": {
      "text/plain": [
       "Instant:1692545523.292405951week"
      ]
     },
     "execution_count": 4,
     "metadata": {},
     "output_type": "execute_result"
    }
   ],
   "source": [
    "my $t = now + $w;"
   ]
  },
  {
   "cell_type": "code",
   "execution_count": 5,
   "id": "5f74aa32",
   "metadata": {},
   "outputs": [
    {
     "data": {
      "text/plain": [
       "2023-08-20"
      ]
     },
     "execution_count": 5,
     "metadata": {},
     "output_type": "execute_result"
    }
   ],
   "source": [
    "Date(+$t);"
   ]
  },
  {
   "cell_type": "code",
   "execution_count": 29,
   "id": "5bc96209",
   "metadata": {
    "scrolled": true
   },
   "outputs": [
    {
     "data": {
      "text/plain": [
       "[10:30:00 11:22:00]"
      ]
     },
     "execution_count": 29,
     "metadata": {},
     "output_type": "execute_result"
    }
   ],
   "source": [
    "my @t=<10:30:00 11:22:00>;"
   ]
  },
  {
   "cell_type": "code",
   "execution_count": 35,
   "id": "73d3cd77",
   "metadata": {
    "scrolled": true
   },
   "outputs": [
    {
     "data": {
      "text/plain": [
       "(2023-08-20T10:30:00Z 2023-08-20T11:22:00Z)"
      ]
     },
     "execution_count": 35,
     "metadata": {},
     "output_type": "execute_result"
    }
   ],
   "source": [
    "@t.map($n~\"T\"~*)>>.DateTime;"
   ]
  },
  {
   "cell_type": "code",
   "execution_count": 38,
   "id": "e09911b1",
   "metadata": {},
   "outputs": [
    {
     "data": {
      "text/plain": [
       "(2023-08-20T10:30:00Z 2023-08-20T11:22:00Z)"
      ]
     },
     "execution_count": 38,
     "metadata": {},
     "output_type": "execute_result"
    }
   ],
   "source": [
    "@t.map($n~\"T\"~*)>>.DateTime;"
   ]
  },
  {
   "cell_type": "code",
   "execution_count": 37,
   "id": "33491328",
   "metadata": {},
   "outputs": [
    {
     "data": {
      "text/plain": [
       "(2023-08-20T10:30:00Z 2023-08-20T11:22:00Z)"
      ]
     },
     "execution_count": 37,
     "metadata": {},
     "output_type": "execute_result"
    }
   ],
   "source": [
    "<10:30:00 11:22:00>.map(now.Date~\"T\"~*)>>.DateTime;"
   ]
  },
  {
   "cell_type": "code",
   "execution_count": 33,
   "id": "85650899",
   "metadata": {},
   "outputs": [
    {
     "data": {
      "text/plain": [
       "2023-08-20T11:30:00Z"
      ]
     },
     "execution_count": 33,
     "metadata": {},
     "output_type": "execute_result"
    }
   ],
   "source": [
    "($n ~ \"T\" ~ \"11:30:00\").DateTime;"
   ]
  },
  {
   "cell_type": "code",
   "execution_count": 34,
   "id": "e3c1227e",
   "metadata": {},
   "outputs": [
    {
     "data": {
      "text/plain": [
       "2023-08-20T10:30:00Z"
      ]
     },
     "execution_count": 34,
     "metadata": {},
     "output_type": "execute_result"
    }
   ],
   "source": [
    "($n~\"T\"~@t[0]).DateTime;"
   ]
  },
  {
   "cell_type": "code",
   "execution_count": null,
   "id": "46266f27",
   "metadata": {},
   "outputs": [],
   "source": [
    "use Time::Duration::Parser;"
   ]
  },
  {
   "cell_type": "code",
   "execution_count": null,
   "id": "c6b4a632",
   "metadata": {},
   "outputs": [],
   "source": []
  }
 ],
 "metadata": {
  "kernelspec": {
   "display_name": "Raku",
   "language": "raku",
   "name": "raku"
  },
  "language_info": {
   "file_extension": ".raku",
   "mimetype": "text/plain",
   "name": "raku",
   "version": "6.d"
  }
 },
 "nbformat": 4,
 "nbformat_minor": 5
}
